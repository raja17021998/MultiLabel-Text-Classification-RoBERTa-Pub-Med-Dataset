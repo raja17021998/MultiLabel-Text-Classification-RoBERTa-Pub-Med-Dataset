{
 "cells": [
  {
   "cell_type": "code",
   "execution_count": 29,
   "id": "59707cd3",
   "metadata": {
    "execution": {
     "iopub.execute_input": "2024-04-14T09:15:41.714646Z",
     "iopub.status.busy": "2024-04-14T09:15:41.714393Z",
     "iopub.status.idle": "2024-04-14T09:15:42.698255Z",
     "shell.execute_reply": "2024-04-14T09:15:42.697345Z"
    },
    "papermill": {
     "duration": 1.002752,
     "end_time": "2024-04-14T09:15:42.700545",
     "exception": false,
     "start_time": "2024-04-14T09:15:41.697793",
     "status": "completed"
    },
    "tags": []
   },
   "outputs": [
    {
     "name": "stdout",
     "output_type": "stream",
     "text": [
      "Sun Apr 14 09:15:42 2024       \r\n",
      "+---------------------------------------------------------------------------------------+\r\n",
      "| NVIDIA-SMI 535.129.03             Driver Version: 535.129.03   CUDA Version: 12.2     |\r\n",
      "|-----------------------------------------+----------------------+----------------------+\r\n",
      "| GPU  Name                 Persistence-M | Bus-Id        Disp.A | Volatile Uncorr. ECC |\r\n",
      "| Fan  Temp   Perf          Pwr:Usage/Cap |         Memory-Usage | GPU-Util  Compute M. |\r\n",
      "|                                         |                      |               MIG M. |\r\n",
      "|=========================================+======================+======================|\r\n",
      "|   0  Tesla P100-PCIE-16GB           Off | 00000000:00:04.0 Off |                    0 |\r\n",
      "| N/A   34C    P0              25W / 250W |      0MiB / 16384MiB |      0%      Default |\r\n",
      "|                                         |                      |                  N/A |\r\n",
      "+-----------------------------------------+----------------------+----------------------+\r\n",
      "                                                                                         \r\n",
      "+---------------------------------------------------------------------------------------+\r\n",
      "| Processes:                                                                            |\r\n",
      "|  GPU   GI   CI        PID   Type   Process name                            GPU Memory |\r\n",
      "|        ID   ID                                                             Usage      |\r\n",
      "|=======================================================================================|\r\n",
      "|  No running processes found                                                           |\r\n",
      "+---------------------------------------------------------------------------------------+\r\n"
     ]
    }
   ],
   "source": [
    "!nvidia-smi"
   ]
  },
  {
   "cell_type": "markdown",
   "id": "876c9ad0",
   "metadata": {},
   "source": [
    "### Importing Libraries"
   ]
  },
  {
   "cell_type": "code",
   "execution_count": 30,
   "id": "f8fb972d",
   "metadata": {
    "execution": {
     "iopub.execute_input": "2024-04-14T09:15:42.734912Z",
     "iopub.status.busy": "2024-04-14T09:15:42.734067Z",
     "iopub.status.idle": "2024-04-14T09:15:47.143358Z",
     "shell.execute_reply": "2024-04-14T09:15:47.142390Z"
    },
    "papermill": {
     "duration": 4.429198,
     "end_time": "2024-04-14T09:15:47.146182",
     "exception": false,
     "start_time": "2024-04-14T09:15:42.716984",
     "status": "completed"
    },
    "tags": []
   },
   "outputs": [],
   "source": [
    "import os\n",
    "import pandas as pd\n",
    "import numpy as np\n",
    "import shutil\n",
    "import sys\n",
    "import tqdm.notebook as tq\n",
    "from collections import defaultdict\n",
    "from tqdm import tqdm \n",
    "import torch\n",
    "import torch.nn as nn\n",
    "\n",
    "device = torch.device('cuda') if torch.cuda.is_available() else torch.device('cpu')"
   ]
  },
  {
   "cell_type": "code",
   "execution_count": 31,
   "id": "0c8fccc2",
   "metadata": {
    "execution": {
     "iopub.execute_input": "2024-04-14T09:15:47.191582Z",
     "iopub.status.busy": "2024-04-14T09:15:47.190513Z",
     "iopub.status.idle": "2024-04-14T09:15:47.195946Z",
     "shell.execute_reply": "2024-04-14T09:15:47.195118Z"
    },
    "papermill": {
     "duration": 0.032921,
     "end_time": "2024-04-14T09:15:47.198459",
     "exception": false,
     "start_time": "2024-04-14T09:15:47.165538",
     "status": "completed"
    },
    "tags": []
   },
   "outputs": [
    {
     "name": "stdout",
     "output_type": "stream",
     "text": [
      "cuda\n"
     ]
    }
   ],
   "source": [
    "print(device)"
   ]
  },
  {
   "cell_type": "markdown",
   "id": "0f8e721b",
   "metadata": {},
   "source": [
    "### Loading in data"
   ]
  },
  {
   "cell_type": "code",
   "execution_count": 32,
   "id": "396d2e1c",
   "metadata": {
    "execution": {
     "iopub.execute_input": "2024-04-14T09:15:47.237179Z",
     "iopub.status.busy": "2024-04-14T09:15:47.236495Z",
     "iopub.status.idle": "2024-04-14T09:15:50.469616Z",
     "shell.execute_reply": "2024-04-14T09:15:50.468778Z"
    },
    "papermill": {
     "duration": 3.252711,
     "end_time": "2024-04-14T09:15:50.471873",
     "exception": false,
     "start_time": "2024-04-14T09:15:47.219162",
     "status": "completed"
    },
    "tags": []
   },
   "outputs": [],
   "source": [
    "# data_dir = \"/content/drive/MyDrive/Notebooks_BERT/data\"\n",
    "df_data = pd.read_csv(\"Multi-Label Text Classification Dataset.csv\")"
   ]
  },
  {
   "cell_type": "code",
   "execution_count": 34,
   "id": "aa83f89a",
   "metadata": {
    "execution": {
     "iopub.execute_input": "2024-04-14T09:15:50.546997Z",
     "iopub.status.busy": "2024-04-14T09:15:50.546273Z",
     "iopub.status.idle": "2024-04-14T09:15:50.567697Z",
     "shell.execute_reply": "2024-04-14T09:15:50.566893Z"
    },
    "papermill": {
     "duration": 0.040956,
     "end_time": "2024-04-14T09:15:50.569582",
     "exception": false,
     "start_time": "2024-04-14T09:15:50.528626",
     "status": "completed"
    },
    "tags": []
   },
   "outputs": [
    {
     "data": {
      "text/html": [
       "<div>\n",
       "<style scoped>\n",
       "    .dataframe tbody tr th:only-of-type {\n",
       "        vertical-align: middle;\n",
       "    }\n",
       "\n",
       "    .dataframe tbody tr th {\n",
       "        vertical-align: top;\n",
       "    }\n",
       "\n",
       "    .dataframe thead th {\n",
       "        text-align: right;\n",
       "    }\n",
       "</style>\n",
       "<table border=\"1\" class=\"dataframe\">\n",
       "  <thead>\n",
       "    <tr style=\"text-align: right;\">\n",
       "      <th></th>\n",
       "      <th>Title</th>\n",
       "      <th>abstractText</th>\n",
       "      <th>meshMajor</th>\n",
       "      <th>pmid</th>\n",
       "      <th>meshid</th>\n",
       "      <th>meshroot</th>\n",
       "      <th>A</th>\n",
       "      <th>B</th>\n",
       "      <th>C</th>\n",
       "      <th>D</th>\n",
       "      <th>E</th>\n",
       "      <th>F</th>\n",
       "      <th>G</th>\n",
       "      <th>H</th>\n",
       "      <th>I</th>\n",
       "      <th>J</th>\n",
       "      <th>L</th>\n",
       "      <th>M</th>\n",
       "      <th>N</th>\n",
       "      <th>Z</th>\n",
       "    </tr>\n",
       "  </thead>\n",
       "  <tbody>\n",
       "    <tr>\n",
       "      <th>0</th>\n",
       "      <td>Expression of p53 and coexistence of HPV in pr...</td>\n",
       "      <td>Fifty-four paraffin embedded tissue sections f...</td>\n",
       "      <td>['DNA Probes, HPV', 'DNA, Viral', 'Female', 'H...</td>\n",
       "      <td>8549602</td>\n",
       "      <td>[['D13.444.600.223.555', 'D27.505.259.750.600....</td>\n",
       "      <td>['Chemicals and Drugs [D]', 'Organisms [B]', '...</td>\n",
       "      <td>0</td>\n",
       "      <td>1</td>\n",
       "      <td>1</td>\n",
       "      <td>1</td>\n",
       "      <td>1</td>\n",
       "      <td>0</td>\n",
       "      <td>0</td>\n",
       "      <td>1</td>\n",
       "      <td>0</td>\n",
       "      <td>0</td>\n",
       "      <td>0</td>\n",
       "      <td>0</td>\n",
       "      <td>0</td>\n",
       "      <td>0</td>\n",
       "    </tr>\n",
       "    <tr>\n",
       "      <th>1</th>\n",
       "      <td>Vitamin D status in pregnant Indian women acro...</td>\n",
       "      <td>The present cross-sectional study was conducte...</td>\n",
       "      <td>['Adult', 'Alkaline Phosphatase', 'Breast Feed...</td>\n",
       "      <td>21736816</td>\n",
       "      <td>[['M01.060.116'], ['D08.811.277.352.650.035'],...</td>\n",
       "      <td>['Named Groups [M]', 'Chemicals and Drugs [D]'...</td>\n",
       "      <td>0</td>\n",
       "      <td>1</td>\n",
       "      <td>1</td>\n",
       "      <td>1</td>\n",
       "      <td>1</td>\n",
       "      <td>1</td>\n",
       "      <td>1</td>\n",
       "      <td>0</td>\n",
       "      <td>1</td>\n",
       "      <td>1</td>\n",
       "      <td>0</td>\n",
       "      <td>1</td>\n",
       "      <td>1</td>\n",
       "      <td>1</td>\n",
       "    </tr>\n",
       "    <tr>\n",
       "      <th>2</th>\n",
       "      <td>[Identification of a functionally important di...</td>\n",
       "      <td>The occurrence of individual amino acids and d...</td>\n",
       "      <td>['Amino Acid Sequence', 'Analgesics, Opioid', ...</td>\n",
       "      <td>19060934</td>\n",
       "      <td>[['G02.111.570.060', 'L01.453.245.667.060'], [...</td>\n",
       "      <td>['Phenomena and Processes [G]', 'Information S...</td>\n",
       "      <td>1</td>\n",
       "      <td>1</td>\n",
       "      <td>0</td>\n",
       "      <td>1</td>\n",
       "      <td>1</td>\n",
       "      <td>0</td>\n",
       "      <td>1</td>\n",
       "      <td>0</td>\n",
       "      <td>0</td>\n",
       "      <td>0</td>\n",
       "      <td>1</td>\n",
       "      <td>0</td>\n",
       "      <td>0</td>\n",
       "      <td>0</td>\n",
       "    </tr>\n",
       "    <tr>\n",
       "      <th>3</th>\n",
       "      <td>Multilayer capsules: a promising microencapsul...</td>\n",
       "      <td>In 1980, Lim and Sun introduced a microcapsule...</td>\n",
       "      <td>['Acrylic Resins', 'Alginates', 'Animals', 'Bi...</td>\n",
       "      <td>11426874</td>\n",
       "      <td>[['D05.750.716.822.111', 'D25.720.716.822.111'...</td>\n",
       "      <td>['Chemicals and Drugs [D]', 'Technology, Indus...</td>\n",
       "      <td>1</td>\n",
       "      <td>1</td>\n",
       "      <td>1</td>\n",
       "      <td>1</td>\n",
       "      <td>1</td>\n",
       "      <td>0</td>\n",
       "      <td>1</td>\n",
       "      <td>0</td>\n",
       "      <td>0</td>\n",
       "      <td>1</td>\n",
       "      <td>0</td>\n",
       "      <td>0</td>\n",
       "      <td>0</td>\n",
       "      <td>0</td>\n",
       "    </tr>\n",
       "    <tr>\n",
       "      <th>4</th>\n",
       "      <td>Nanohydrogel with N,N'-bis(acryloyl)cystine cr...</td>\n",
       "      <td>Substantially improved hydrogel particles base...</td>\n",
       "      <td>['Antineoplastic Agents', 'Cell Proliferation'...</td>\n",
       "      <td>28323099</td>\n",
       "      <td>[['D27.505.954.248'], ['G04.161.750', 'G07.345...</td>\n",
       "      <td>['Chemicals and Drugs [D]', 'Phenomena and Pro...</td>\n",
       "      <td>1</td>\n",
       "      <td>1</td>\n",
       "      <td>0</td>\n",
       "      <td>1</td>\n",
       "      <td>1</td>\n",
       "      <td>0</td>\n",
       "      <td>1</td>\n",
       "      <td>0</td>\n",
       "      <td>0</td>\n",
       "      <td>1</td>\n",
       "      <td>0</td>\n",
       "      <td>0</td>\n",
       "      <td>0</td>\n",
       "      <td>0</td>\n",
       "    </tr>\n",
       "  </tbody>\n",
       "</table>\n",
       "</div>"
      ],
      "text/plain": [
       "                                               Title  \\\n",
       "0  Expression of p53 and coexistence of HPV in pr...   \n",
       "1  Vitamin D status in pregnant Indian women acro...   \n",
       "2  [Identification of a functionally important di...   \n",
       "3  Multilayer capsules: a promising microencapsul...   \n",
       "4  Nanohydrogel with N,N'-bis(acryloyl)cystine cr...   \n",
       "\n",
       "                                        abstractText  \\\n",
       "0  Fifty-four paraffin embedded tissue sections f...   \n",
       "1  The present cross-sectional study was conducte...   \n",
       "2  The occurrence of individual amino acids and d...   \n",
       "3  In 1980, Lim and Sun introduced a microcapsule...   \n",
       "4  Substantially improved hydrogel particles base...   \n",
       "\n",
       "                                           meshMajor      pmid  \\\n",
       "0  ['DNA Probes, HPV', 'DNA, Viral', 'Female', 'H...   8549602   \n",
       "1  ['Adult', 'Alkaline Phosphatase', 'Breast Feed...  21736816   \n",
       "2  ['Amino Acid Sequence', 'Analgesics, Opioid', ...  19060934   \n",
       "3  ['Acrylic Resins', 'Alginates', 'Animals', 'Bi...  11426874   \n",
       "4  ['Antineoplastic Agents', 'Cell Proliferation'...  28323099   \n",
       "\n",
       "                                              meshid  \\\n",
       "0  [['D13.444.600.223.555', 'D27.505.259.750.600....   \n",
       "1  [['M01.060.116'], ['D08.811.277.352.650.035'],...   \n",
       "2  [['G02.111.570.060', 'L01.453.245.667.060'], [...   \n",
       "3  [['D05.750.716.822.111', 'D25.720.716.822.111'...   \n",
       "4  [['D27.505.954.248'], ['G04.161.750', 'G07.345...   \n",
       "\n",
       "                                            meshroot  A  B  C  D  E  F  G  H  \\\n",
       "0  ['Chemicals and Drugs [D]', 'Organisms [B]', '...  0  1  1  1  1  0  0  1   \n",
       "1  ['Named Groups [M]', 'Chemicals and Drugs [D]'...  0  1  1  1  1  1  1  0   \n",
       "2  ['Phenomena and Processes [G]', 'Information S...  1  1  0  1  1  0  1  0   \n",
       "3  ['Chemicals and Drugs [D]', 'Technology, Indus...  1  1  1  1  1  0  1  0   \n",
       "4  ['Chemicals and Drugs [D]', 'Phenomena and Pro...  1  1  0  1  1  0  1  0   \n",
       "\n",
       "   I  J  L  M  N  Z  \n",
       "0  0  0  0  0  0  0  \n",
       "1  1  1  0  1  1  1  \n",
       "2  0  0  1  0  0  0  \n",
       "3  0  1  0  0  0  0  \n",
       "4  0  1  0  0  0  0  "
      ]
     },
     "execution_count": 34,
     "metadata": {},
     "output_type": "execute_result"
    }
   ],
   "source": [
    "df_data.head()"
   ]
  },
  {
   "cell_type": "code",
   "execution_count": 35,
   "id": "27c8a389",
   "metadata": {
    "execution": {
     "iopub.execute_input": "2024-04-14T09:15:50.604467Z",
     "iopub.status.busy": "2024-04-14T09:15:50.603771Z",
     "iopub.status.idle": "2024-04-14T09:15:50.724128Z",
     "shell.execute_reply": "2024-04-14T09:15:50.723362Z"
    },
    "papermill": {
     "duration": 0.14028,
     "end_time": "2024-04-14T09:15:50.726405",
     "exception": false,
     "start_time": "2024-04-14T09:15:50.586125",
     "status": "completed"
    },
    "tags": []
   },
   "outputs": [],
   "source": [
    "\n",
    "df_data[\"combined\"] = df_data[\"Title\"] + \". \" + df_data[\"abstractText\"]\n",
    "df_data.drop(columns=[\"abstractText\", \"Title\"], axis=1, inplace=True)"
   ]
  },
  {
   "cell_type": "code",
   "execution_count": 36,
   "id": "1843d933",
   "metadata": {
    "execution": {
     "iopub.execute_input": "2024-04-14T09:15:50.762167Z",
     "iopub.status.busy": "2024-04-14T09:15:50.761354Z",
     "iopub.status.idle": "2024-04-14T09:15:51.867119Z",
     "shell.execute_reply": "2024-04-14T09:15:51.866138Z"
    },
    "papermill": {
     "duration": 1.125981,
     "end_time": "2024-04-14T09:15:51.869416",
     "exception": false,
     "start_time": "2024-04-14T09:15:50.743435",
     "status": "completed"
    },
    "tags": []
   },
   "outputs": [],
   "source": [
    "from sklearn.model_selection import train_test_split\n",
    "# split into train and test\n",
    "df_train, df_test = train_test_split(df_data, random_state=77, test_size=0.30, shuffle=True)\n",
    "# split test into test and validation datasets\n",
    "df_test, df_valid = train_test_split(df_test, random_state=88, test_size=0.50, shuffle=True)"
   ]
  },
  {
   "cell_type": "code",
   "execution_count": 37,
   "id": "bfe886cf",
   "metadata": {
    "execution": {
     "iopub.execute_input": "2024-04-14T09:15:51.905065Z",
     "iopub.status.busy": "2024-04-14T09:15:51.904621Z",
     "iopub.status.idle": "2024-04-14T09:15:51.909724Z",
     "shell.execute_reply": "2024-04-14T09:15:51.908817Z"
    },
    "papermill": {
     "duration": 0.024907,
     "end_time": "2024-04-14T09:15:51.911703",
     "exception": false,
     "start_time": "2024-04-14T09:15:51.886796",
     "status": "completed"
    },
    "tags": []
   },
   "outputs": [
    {
     "name": "stdout",
     "output_type": "stream",
     "text": [
      "Train: (35000, 19), Test: (7500, 19), Valid: (7500, 19)\n"
     ]
    }
   ],
   "source": [
    "print(f\"Train: {df_train.shape}, Test: {df_test.shape}, Valid: {df_valid.shape}\")"
   ]
  },
  {
   "cell_type": "code",
   "execution_count": 38,
   "id": "3b096aa7",
   "metadata": {
    "execution": {
     "iopub.execute_input": "2024-04-14T09:15:51.946904Z",
     "iopub.status.busy": "2024-04-14T09:15:51.946124Z",
     "iopub.status.idle": "2024-04-14T09:15:51.950850Z",
     "shell.execute_reply": "2024-04-14T09:15:51.950004Z"
    },
    "papermill": {
     "duration": 0.024465,
     "end_time": "2024-04-14T09:15:51.952740",
     "exception": false,
     "start_time": "2024-04-14T09:15:51.928275",
     "status": "completed"
    },
    "tags": []
   },
   "outputs": [],
   "source": [
    "# Hyperparameters\n",
    "MAX_LEN = 512\n",
    "TRAIN_BATCH_SIZE = 16\n",
    "VALID_BATCH_SIZE = 16\n",
    "TEST_BATCH_SIZE = 16\n",
    "EPOCHS = 10\n",
    "LEARNING_RATE = 1e-05\n",
    "THRESHOLD = 0.5 "
   ]
  },
  {
   "cell_type": "code",
   "execution_count": 39,
   "id": "729f5e4d",
   "metadata": {
    "execution": {
     "iopub.execute_input": "2024-04-14T09:15:51.988159Z",
     "iopub.status.busy": "2024-04-14T09:15:51.987537Z",
     "iopub.status.idle": "2024-04-14T09:15:54.865789Z",
     "shell.execute_reply": "2024-04-14T09:15:54.864818Z"
    },
    "papermill": {
     "duration": 2.898763,
     "end_time": "2024-04-14T09:15:54.868195",
     "exception": false,
     "start_time": "2024-04-14T09:15:51.969432",
     "status": "completed"
    },
    "tags": []
   },
   "outputs": [],
   "source": [
    "from transformers import RobertaTokenizer, RobertaModel"
   ]
  },
  {
   "cell_type": "markdown",
   "id": "987fc167",
   "metadata": {},
   "source": [
    "### RoBERTa Base\n",
    "\n",
    "RoBERTa (Robustly optimized BERT approach) is a variant of the BERT (Bidirectional Encoder Representations from Transformers) model introduced by Facebook AI in 2019. It is designed to improve upon BERT's pretraining process by modifying key hyperparameters, training data, and training objectives.\n",
    "\n",
    "#### Architecture\n",
    "\n",
    "RoBERTa base follows the same architecture as BERT base, consisting of transformer layers with self-attention mechanisms. However, it employs several modifications to enhance its performance:\n",
    "\n",
    "- **Larger Training Data**: RoBERTa is trained on more data compared to BERT, including additional unlabelled text from sources like BookCorpus and CC-News.\n",
    "- **Dynamic Masking**: RoBERTa uses dynamic masking during pretraining, where different masks are applied to the input tokens in each training epoch.\n",
    "- **No Next Sentence Prediction (NSP)**: Unlike BERT, RoBERTa does not use the NSP task during pretraining, relying solely on the masked language model (MLM) objective.\n",
    "- **Hyperparameter Tuning**: RoBERTa fine-tunes hyperparameters such as batch size, learning rate, and training duration, resulting in improved performance.\n",
    "\n",
    "\n",
    "\n",
    "#### Performance\n",
    "\n",
    "RoBERTa base has demonstrated state-of-the-art performance on various natural language understanding (NLU) benchmarks, including GLUE (General Language Understanding Evaluation) and SQuAD (Stanford Question Answering Dataset). Its robust pretraining process and fine-tuning capabilities make it a widely used model for various NLP tasks.\n",
    "\n",
    "For more details, refer to the original paper: [RoBERTa: A Robustly Optimized BERT Pretraining Approach](https://arxiv.org/abs/1907.11692).\n"
   ]
  },
  {
   "cell_type": "code",
   "execution_count": 40,
   "id": "819a9b5e",
   "metadata": {
    "execution": {
     "iopub.execute_input": "2024-04-14T09:15:54.903063Z",
     "iopub.status.busy": "2024-04-14T09:15:54.902603Z",
     "iopub.status.idle": "2024-04-14T09:15:57.149097Z",
     "shell.execute_reply": "2024-04-14T09:15:57.148296Z"
    },
    "papermill": {
     "duration": 2.266389,
     "end_time": "2024-04-14T09:15:57.151411",
     "exception": false,
     "start_time": "2024-04-14T09:15:54.885022",
     "status": "completed"
    },
    "tags": []
   },
   "outputs": [
    {
     "data": {
      "application/vnd.jupyter.widget-view+json": {
       "model_id": "195e690bac9d43eca0d4d9a1aa5026d5",
       "version_major": 2,
       "version_minor": 0
      },
      "text/plain": [
       "tokenizer_config.json:   0%|          | 0.00/25.0 [00:00<?, ?B/s]"
      ]
     },
     "metadata": {},
     "output_type": "display_data"
    },
    {
     "data": {
      "application/vnd.jupyter.widget-view+json": {
       "model_id": "8c2444497abe49fc8b7c8efa790df4b9",
       "version_major": 2,
       "version_minor": 0
      },
      "text/plain": [
       "vocab.json:   0%|          | 0.00/899k [00:00<?, ?B/s]"
      ]
     },
     "metadata": {},
     "output_type": "display_data"
    },
    {
     "data": {
      "application/vnd.jupyter.widget-view+json": {
       "model_id": "299d1027567d40e29dc2f31de106ff78",
       "version_major": 2,
       "version_minor": 0
      },
      "text/plain": [
       "merges.txt:   0%|          | 0.00/456k [00:00<?, ?B/s]"
      ]
     },
     "metadata": {},
     "output_type": "display_data"
    },
    {
     "data": {
      "application/vnd.jupyter.widget-view+json": {
       "model_id": "238e939febf2482190a9445b2ba6f1b5",
       "version_major": 2,
       "version_minor": 0
      },
      "text/plain": [
       "tokenizer.json:   0%|          | 0.00/1.36M [00:00<?, ?B/s]"
      ]
     },
     "metadata": {},
     "output_type": "display_data"
    },
    {
     "data": {
      "application/vnd.jupyter.widget-view+json": {
       "model_id": "c797f7a9d175494dae13bb909dc69e7e",
       "version_major": 2,
       "version_minor": 0
      },
      "text/plain": [
       "config.json:   0%|          | 0.00/481 [00:00<?, ?B/s]"
      ]
     },
     "metadata": {},
     "output_type": "display_data"
    }
   ],
   "source": [
    "tokenizer = RobertaTokenizer.from_pretrained(\"roberta-base\")"
   ]
  },
  {
   "cell_type": "code",
   "execution_count": 41,
   "id": "b48e7b73",
   "metadata": {
    "execution": {
     "iopub.execute_input": "2024-04-14T09:15:57.188534Z",
     "iopub.status.busy": "2024-04-14T09:15:57.187853Z",
     "iopub.status.idle": "2024-04-14T09:15:57.206553Z",
     "shell.execute_reply": "2024-04-14T09:15:57.205875Z"
    },
    "papermill": {
     "duration": 0.039322,
     "end_time": "2024-04-14T09:15:57.208433",
     "exception": false,
     "start_time": "2024-04-14T09:15:57.169111",
     "status": "completed"
    },
    "tags": []
   },
   "outputs": [],
   "source": [
    "# Test the tokenizer\n",
    "test_text = \"We are testing RoBERTa tokenizer.\"\n",
    "# generate encodings\n",
    "encodings = tokenizer.encode_plus(test_text, \n",
    "                                  add_special_tokens = True,\n",
    "                                  max_length = 512,\n",
    "                                  truncation = True,\n",
    "                                  padding = \"max_length\", \n",
    "                                  return_attention_mask = True, \n",
    "                                  return_tensors = \"pt\")"
   ]
  },
  {
   "cell_type": "code",
   "execution_count": 42,
   "id": "cc63fac9",
   "metadata": {
    "execution": {
     "iopub.execute_input": "2024-04-14T09:15:57.244228Z",
     "iopub.status.busy": "2024-04-14T09:15:57.243967Z",
     "iopub.status.idle": "2024-04-14T09:15:57.273542Z",
     "shell.execute_reply": "2024-04-14T09:15:57.272660Z"
    },
    "papermill": {
     "duration": 0.049964,
     "end_time": "2024-04-14T09:15:57.275767",
     "exception": false,
     "start_time": "2024-04-14T09:15:57.225803",
     "status": "completed"
    },
    "tags": []
   },
   "outputs": [
    {
     "name": "stdout",
     "output_type": "stream",
     "text": [
      "{'input_ids': tensor([[    0,   170,    32,  3044,  3830, 11126, 38495, 19233,  6315,     4,\n",
      "             2,     1,     1,     1,     1,     1,     1,     1,     1,     1,\n",
      "             1,     1,     1,     1,     1,     1,     1,     1,     1,     1,\n",
      "             1,     1,     1,     1,     1,     1,     1,     1,     1,     1,\n",
      "             1,     1,     1,     1,     1,     1,     1,     1,     1,     1,\n",
      "             1,     1,     1,     1,     1,     1,     1,     1,     1,     1,\n",
      "             1,     1,     1,     1,     1,     1,     1,     1,     1,     1,\n",
      "             1,     1,     1,     1,     1,     1,     1,     1,     1,     1,\n",
      "             1,     1,     1,     1,     1,     1,     1,     1,     1,     1,\n",
      "             1,     1,     1,     1,     1,     1,     1,     1,     1,     1,\n",
      "             1,     1,     1,     1,     1,     1,     1,     1,     1,     1,\n",
      "             1,     1,     1,     1,     1,     1,     1,     1,     1,     1,\n",
      "             1,     1,     1,     1,     1,     1,     1,     1,     1,     1,\n",
      "             1,     1,     1,     1,     1,     1,     1,     1,     1,     1,\n",
      "             1,     1,     1,     1,     1,     1,     1,     1,     1,     1,\n",
      "             1,     1,     1,     1,     1,     1,     1,     1,     1,     1,\n",
      "             1,     1,     1,     1,     1,     1,     1,     1,     1,     1,\n",
      "             1,     1,     1,     1,     1,     1,     1,     1,     1,     1,\n",
      "             1,     1,     1,     1,     1,     1,     1,     1,     1,     1,\n",
      "             1,     1,     1,     1,     1,     1,     1,     1,     1,     1,\n",
      "             1,     1,     1,     1,     1,     1,     1,     1,     1,     1,\n",
      "             1,     1,     1,     1,     1,     1,     1,     1,     1,     1,\n",
      "             1,     1,     1,     1,     1,     1,     1,     1,     1,     1,\n",
      "             1,     1,     1,     1,     1,     1,     1,     1,     1,     1,\n",
      "             1,     1,     1,     1,     1,     1,     1,     1,     1,     1,\n",
      "             1,     1,     1,     1,     1,     1,     1,     1,     1,     1,\n",
      "             1,     1,     1,     1,     1,     1,     1,     1,     1,     1,\n",
      "             1,     1,     1,     1,     1,     1,     1,     1,     1,     1,\n",
      "             1,     1,     1,     1,     1,     1,     1,     1,     1,     1,\n",
      "             1,     1,     1,     1,     1,     1,     1,     1,     1,     1,\n",
      "             1,     1,     1,     1,     1,     1,     1,     1,     1,     1,\n",
      "             1,     1,     1,     1,     1,     1,     1,     1,     1,     1,\n",
      "             1,     1,     1,     1,     1,     1,     1,     1,     1,     1,\n",
      "             1,     1,     1,     1,     1,     1,     1,     1,     1,     1,\n",
      "             1,     1,     1,     1,     1,     1,     1,     1,     1,     1,\n",
      "             1,     1,     1,     1,     1,     1,     1,     1,     1,     1,\n",
      "             1,     1,     1,     1,     1,     1,     1,     1,     1,     1,\n",
      "             1,     1,     1,     1,     1,     1,     1,     1,     1,     1,\n",
      "             1,     1,     1,     1,     1,     1,     1,     1,     1,     1,\n",
      "             1,     1,     1,     1,     1,     1,     1,     1,     1,     1,\n",
      "             1,     1,     1,     1,     1,     1,     1,     1,     1,     1,\n",
      "             1,     1,     1,     1,     1,     1,     1,     1,     1,     1,\n",
      "             1,     1,     1,     1,     1,     1,     1,     1,     1,     1,\n",
      "             1,     1,     1,     1,     1,     1,     1,     1,     1,     1,\n",
      "             1,     1,     1,     1,     1,     1,     1,     1,     1,     1,\n",
      "             1,     1,     1,     1,     1,     1,     1,     1,     1,     1,\n",
      "             1,     1,     1,     1,     1,     1,     1,     1,     1,     1,\n",
      "             1,     1,     1,     1,     1,     1,     1,     1,     1,     1,\n",
      "             1,     1,     1,     1,     1,     1,     1,     1,     1,     1,\n",
      "             1,     1,     1,     1,     1,     1,     1,     1,     1,     1,\n",
      "             1,     1,     1,     1,     1,     1,     1,     1,     1,     1,\n",
      "             1,     1]]), 'attention_mask': tensor([[1, 1, 1, 1, 1, 1, 1, 1, 1, 1, 1, 0, 0, 0, 0, 0, 0, 0, 0, 0, 0, 0, 0, 0,\n",
      "         0, 0, 0, 0, 0, 0, 0, 0, 0, 0, 0, 0, 0, 0, 0, 0, 0, 0, 0, 0, 0, 0, 0, 0,\n",
      "         0, 0, 0, 0, 0, 0, 0, 0, 0, 0, 0, 0, 0, 0, 0, 0, 0, 0, 0, 0, 0, 0, 0, 0,\n",
      "         0, 0, 0, 0, 0, 0, 0, 0, 0, 0, 0, 0, 0, 0, 0, 0, 0, 0, 0, 0, 0, 0, 0, 0,\n",
      "         0, 0, 0, 0, 0, 0, 0, 0, 0, 0, 0, 0, 0, 0, 0, 0, 0, 0, 0, 0, 0, 0, 0, 0,\n",
      "         0, 0, 0, 0, 0, 0, 0, 0, 0, 0, 0, 0, 0, 0, 0, 0, 0, 0, 0, 0, 0, 0, 0, 0,\n",
      "         0, 0, 0, 0, 0, 0, 0, 0, 0, 0, 0, 0, 0, 0, 0, 0, 0, 0, 0, 0, 0, 0, 0, 0,\n",
      "         0, 0, 0, 0, 0, 0, 0, 0, 0, 0, 0, 0, 0, 0, 0, 0, 0, 0, 0, 0, 0, 0, 0, 0,\n",
      "         0, 0, 0, 0, 0, 0, 0, 0, 0, 0, 0, 0, 0, 0, 0, 0, 0, 0, 0, 0, 0, 0, 0, 0,\n",
      "         0, 0, 0, 0, 0, 0, 0, 0, 0, 0, 0, 0, 0, 0, 0, 0, 0, 0, 0, 0, 0, 0, 0, 0,\n",
      "         0, 0, 0, 0, 0, 0, 0, 0, 0, 0, 0, 0, 0, 0, 0, 0, 0, 0, 0, 0, 0, 0, 0, 0,\n",
      "         0, 0, 0, 0, 0, 0, 0, 0, 0, 0, 0, 0, 0, 0, 0, 0, 0, 0, 0, 0, 0, 0, 0, 0,\n",
      "         0, 0, 0, 0, 0, 0, 0, 0, 0, 0, 0, 0, 0, 0, 0, 0, 0, 0, 0, 0, 0, 0, 0, 0,\n",
      "         0, 0, 0, 0, 0, 0, 0, 0, 0, 0, 0, 0, 0, 0, 0, 0, 0, 0, 0, 0, 0, 0, 0, 0,\n",
      "         0, 0, 0, 0, 0, 0, 0, 0, 0, 0, 0, 0, 0, 0, 0, 0, 0, 0, 0, 0, 0, 0, 0, 0,\n",
      "         0, 0, 0, 0, 0, 0, 0, 0, 0, 0, 0, 0, 0, 0, 0, 0, 0, 0, 0, 0, 0, 0, 0, 0,\n",
      "         0, 0, 0, 0, 0, 0, 0, 0, 0, 0, 0, 0, 0, 0, 0, 0, 0, 0, 0, 0, 0, 0, 0, 0,\n",
      "         0, 0, 0, 0, 0, 0, 0, 0, 0, 0, 0, 0, 0, 0, 0, 0, 0, 0, 0, 0, 0, 0, 0, 0,\n",
      "         0, 0, 0, 0, 0, 0, 0, 0, 0, 0, 0, 0, 0, 0, 0, 0, 0, 0, 0, 0, 0, 0, 0, 0,\n",
      "         0, 0, 0, 0, 0, 0, 0, 0, 0, 0, 0, 0, 0, 0, 0, 0, 0, 0, 0, 0, 0, 0, 0, 0,\n",
      "         0, 0, 0, 0, 0, 0, 0, 0, 0, 0, 0, 0, 0, 0, 0, 0, 0, 0, 0, 0, 0, 0, 0, 0,\n",
      "         0, 0, 0, 0, 0, 0, 0, 0]])}\n"
     ]
    }
   ],
   "source": [
    "print(encodings)"
   ]
  },
  {
   "cell_type": "code",
   "execution_count": 43,
   "id": "3fa99182",
   "metadata": {
    "execution": {
     "iopub.execute_input": "2024-04-14T09:15:57.311951Z",
     "iopub.status.busy": "2024-04-14T09:15:57.311657Z",
     "iopub.status.idle": "2024-04-14T09:15:57.319004Z",
     "shell.execute_reply": "2024-04-14T09:15:57.318144Z"
    },
    "papermill": {
     "duration": 0.027723,
     "end_time": "2024-04-14T09:15:57.320952",
     "exception": false,
     "start_time": "2024-04-14T09:15:57.293229",
     "status": "completed"
    },
    "tags": []
   },
   "outputs": [
    {
     "data": {
      "text/plain": [
       "12608    A seven-day Helicobacter pylori treatment regi...\n",
       "16180    Choanal atresia: an unusual serious complicati...\n",
       "44364    Can Preoperative Sex-Related Differences in He...\n",
       "362      Use of a First Large-Sized Coil Versus Convent...\n",
       "25827    A Kaposi's sarcoma-associated herpesvirus prot...\n",
       "                               ...                        \n",
       "7832     Making health care more sustainable: the case ...\n",
       "42277    Does co-infection with multiple viruses advers...\n",
       "18667    Differential effects of L-NAME on rat venular ...\n",
       "8799     [Dietary changes in Mexico].. Although the Mex...\n",
       "47831    Managing variations from surgical care plans: ...\n",
       "Name: combined, Length: 35000, dtype: object"
      ]
     },
     "execution_count": 43,
     "metadata": {},
     "output_type": "execute_result"
    }
   ],
   "source": [
    "df_train['combined']"
   ]
  },
  {
   "cell_type": "markdown",
   "id": "cd29474e",
   "metadata": {},
   "source": [
    "### PubMedDataSet Class\n",
    "\n",
    "This class is designed to create a PyTorch dataset for training and evaluation using data from a PubMed dataset. It prepares the data by tokenizing the text using a given tokenizer, encoding it into input tensors, and including the corresponding targets. Here's a breakdown of its components:\n",
    "\n",
    "#### Initialization\n",
    "\n",
    "- `df`: The DataFrame containing the PubMed dataset, with a column named 'combined' containing the combined text of title and abstract.\n",
    "- `tokenizer`: A tokenizer object from the Hugging Face `transformers` library for tokenizing the text data.\n",
    "- `max_len`: The maximum sequence length to which the input sequences will be padded or truncated.\n",
    "- `target_list`: A list of target labels for the classification task.\n",
    "\n",
    "#### Methods\n",
    "\n",
    "##### `__init__()`\n",
    "\n",
    "- Initializes the PubMedDataSet object with the provided DataFrame, tokenizer, maximum sequence length, and target list.\n",
    "\n",
    "##### `__len__()`\n",
    "\n",
    "- Returns the length of the dataset, which is the number of samples in the PubMed dataset.\n",
    "\n",
    "##### `__getitem__()`\n",
    "\n",
    "- Retrieves a single sample from the dataset at the specified index.\n",
    "- Tokenizes the title text using the tokenizer and encodes it into input tensors.\n",
    "- Performs padding or truncation to ensure that the input sequence length is within the specified maximum length.\n",
    "- Encodes the target labels into PyTorch FloatTensor format.\n",
    "- Returns a dictionary containing the input tensors ('input_ids', 'attention_mask', 'token_type_ids'), target labels ('targets'), and the original title text ('title').\n",
    "\n",
    "This class facilitates the preprocessing of PubMed dataset for training and evaluation in PyTorch, making it easier to work with text data in machine learning pipelines.\n"
   ]
  },
  {
   "cell_type": "code",
   "execution_count": 44,
   "id": "85809dd0",
   "metadata": {
    "execution": {
     "iopub.execute_input": "2024-04-14T09:15:57.358529Z",
     "iopub.status.busy": "2024-04-14T09:15:57.357731Z",
     "iopub.status.idle": "2024-04-14T09:15:57.366695Z",
     "shell.execute_reply": "2024-04-14T09:15:57.365804Z"
    },
    "papermill": {
     "duration": 0.029945,
     "end_time": "2024-04-14T09:15:57.368645",
     "exception": false,
     "start_time": "2024-04-14T09:15:57.338700",
     "status": "completed"
    },
    "tags": []
   },
   "outputs": [],
   "source": [
    "class PubMedDataSet(torch.utils.data.Dataset):\n",
    "    def __init__(self, df, tokenizer, max_len, target_list):\n",
    "        self.tokenizer = tokenizer\n",
    "        self.df = df\n",
    "        self.title = list(df['combined'])\n",
    "        self.targets = self.df[target_list].values\n",
    "        self.max_len = max_len\n",
    "\n",
    "    def __len__(self):\n",
    "        return len(self.title)\n",
    "\n",
    "    def __getitem__(self, index):\n",
    "        title = str(self.title[index])\n",
    "        title = \" \".join(title.split())\n",
    "        inputs = self.tokenizer.encode_plus(\n",
    "            title,\n",
    "            None,\n",
    "            add_special_tokens=True,\n",
    "            max_length=self.max_len,\n",
    "            padding='max_length',\n",
    "            return_token_type_ids=True,\n",
    "            truncation=True,\n",
    "            return_attention_mask=True,\n",
    "            return_tensors='pt'\n",
    "        )\n",
    "        targets = torch.FloatTensor(self.targets[index])\n",
    "        return {\n",
    "            'input_ids': inputs['input_ids'].flatten(),\n",
    "            'attention_mask': inputs['attention_mask'].flatten(),\n",
    "            'token_type_ids': inputs[\"token_type_ids\"].flatten(),\n",
    "            'targets': targets,\n",
    "            'title': title\n",
    "        }\n"
   ]
  },
  {
   "cell_type": "code",
   "execution_count": 45,
   "id": "c4c8c5a5",
   "metadata": {
    "execution": {
     "iopub.execute_input": "2024-04-14T09:15:57.406132Z",
     "iopub.status.busy": "2024-04-14T09:15:57.405557Z",
     "iopub.status.idle": "2024-04-14T09:15:57.411928Z",
     "shell.execute_reply": "2024-04-14T09:15:57.411073Z"
    },
    "papermill": {
     "duration": 0.027286,
     "end_time": "2024-04-14T09:15:57.413776",
     "exception": false,
     "start_time": "2024-04-14T09:15:57.386490",
     "status": "completed"
    },
    "tags": []
   },
   "outputs": [
    {
     "data": {
      "text/plain": [
       "['A', 'B', 'C', 'D', 'E', 'F', 'G', 'H', 'I', 'J', 'L', 'M', 'N', 'Z']"
      ]
     },
     "execution_count": 45,
     "metadata": {},
     "output_type": "execute_result"
    }
   ],
   "source": [
    "target_list = list(df_data.columns)\n",
    "target_list= target_list[4:][:-1]\n",
    "target_list"
   ]
  },
  {
   "cell_type": "code",
   "execution_count": null,
   "id": "8b634e94",
   "metadata": {
    "papermill": {
     "duration": 0.017755,
     "end_time": "2024-04-14T09:15:57.449488",
     "exception": false,
     "start_time": "2024-04-14T09:15:57.431733",
     "status": "completed"
    },
    "tags": []
   },
   "outputs": [],
   "source": []
  },
  {
   "cell_type": "code",
   "execution_count": 46,
   "id": "742ec9dd",
   "metadata": {
    "execution": {
     "iopub.execute_input": "2024-04-14T09:15:57.487169Z",
     "iopub.status.busy": "2024-04-14T09:15:57.486352Z",
     "iopub.status.idle": "2024-04-14T09:15:57.507388Z",
     "shell.execute_reply": "2024-04-14T09:15:57.506625Z"
    },
    "papermill": {
     "duration": 0.041946,
     "end_time": "2024-04-14T09:15:57.509288",
     "exception": false,
     "start_time": "2024-04-14T09:15:57.467342",
     "status": "completed"
    },
    "tags": []
   },
   "outputs": [],
   "source": [
    "train_dataset = PubMedDataSet(df_train, tokenizer, MAX_LEN, target_list)\n",
    "valid_dataset = PubMedDataSet(df_valid, tokenizer, MAX_LEN, target_list)\n",
    "test_dataset = PubMedDataSet(df_test, tokenizer, MAX_LEN, target_list)"
   ]
  },
  {
   "cell_type": "code",
   "execution_count": 47,
   "id": "93216971",
   "metadata": {
    "execution": {
     "iopub.execute_input": "2024-04-14T09:15:57.549179Z",
     "iopub.status.busy": "2024-04-14T09:15:57.548528Z",
     "iopub.status.idle": "2024-04-14T09:15:57.618515Z",
     "shell.execute_reply": "2024-04-14T09:15:57.617619Z"
    },
    "papermill": {
     "duration": 0.091312,
     "end_time": "2024-04-14T09:15:57.620651",
     "exception": false,
     "start_time": "2024-04-14T09:15:57.529339",
     "status": "completed"
    },
    "tags": []
   },
   "outputs": [
    {
     "data": {
      "text/plain": [
       "{'input_ids': tensor([    0,   250,   707,    12,  1208, 31141,  2413, 35995,   181,  4360,\n",
       "          6249,  1416, 30174,   634, 17691,  3432, 41643, 28366,     6, 16780,\n",
       "          2462,  9919,  4104,     8,  1805,  1242, 45736,   385, 17022,   338,\n",
       "          3938,   741,  1809,  5914,   877,  7586,    83,  3755,    35,   598,\n",
       "         10516, 17691,  3432, 41643, 28366,  1764, 17844,   326,     4,   417,\n",
       "             4,    29,   482,  1805,  1242, 45736,   385, 17022,   338,  3938,\n",
       "           741,  1809,  5914,   877, 15452, 17844,   741,     4,   417,     4,\n",
       "             8, 16780,  2462,  9919,  4104,   291, 17844,   741,     4,   417,\n",
       "             4,    13,   262,   360,    25,    10, 31141,  2413, 35995,   181,\n",
       "          4360,  6249,  1416, 30174,     4, 49767,   104,    35,    20,   289,\n",
       "             4,   181,  4360,  6249,  2194,     9, 25599,  2379, 24617,  1484,\n",
       "         11793,   253, 17591, 16572,    21, 11852,    30, 33945,  4383,     6,\n",
       "          2040,     8,  6379,  1717,   241,  3175,  3044,     9,  4003,  5090,\n",
       "           918,     8,    30,   508,   347,    12,  2407,   102,  8016,  1296,\n",
       "             4, 22525,  1484,    54,    58,   289,     4,   181,  4360,  6249,\n",
       "            12, 22173,    58,  3032,    19,     5,  1065,  1416, 30174,    13,\n",
       "           262,   360,     4,  2246,  1484,    19,  2171,  4279,  1630,   225,\n",
       "           337, 17589, 19528,  1455,    23,   253, 17591, 16572,    58,   576,\n",
       "         16780,  2462,  9919,  4104,   291, 17844,   117,  3894,   242,    13,\n",
       "            10,   617,   733,   360,     4,  1491,   540,    87,   971,   360,\n",
       "            71,  8796,  1416,     6,    70,  3457,    58,  6636,     7, 13057,\n",
       "          3361,   289,     4,   181,  4360,  6249,  2194,     4,   163, 40079,\n",
       "         15608,     9,   289,     4,   181,  4360,  6249, 13426,    21,  3030,\n",
       "             8,  1484,  2673,   143,   526,    12, 38375,     4, 49043,    35,\n",
       "           374,    41,  6589,    12,   560,    12,    90, 12353,  1453,     6,\n",
       "           289,     4,   181,  4360,  6249,  7910,    21, 32311,    11,  1814,\n",
       "           207,    36,  4015,   207, 19104,    35,  7004,    12,  5607,  8871,\n",
       "             9,  1484,     4, 29058, 20771,    21,  2984,    30,  1718,   207,\n",
       "          1484,     4, 32611,    21,  4206,     6,    19,  8971,   207,  1484,\n",
       "           602,    55,    87,  6164,   207,     9, 12079,     4,  4369,  2839,\n",
       "           808,  1222,  4104,  5910,    21,  3492,   207,    53,    70, 13426,\n",
       "            58,  5685,     7, 17691,  3432, 41643, 28366,     4, 49760, 11654,\n",
       "            35,   152,   262,    12,  1208,  1416,  4824,    10,   239,   672,\n",
       "             9, 13306,     9,   289,     4,   181,  4360,  6249,  7910,    19,\n",
       "          3487,  3694,   526,    12, 38375,     4,    85,   189,    33,    10,\n",
       "           774,     7,   310,     6,  1605,   147,    89,    16,    10,   239,\n",
       "           672,     9,  1145,  2839,   808,  1222,  4104,  5910,     4,     2,\n",
       "             1,     1,     1,     1,     1,     1,     1,     1,     1,     1,\n",
       "             1,     1,     1,     1,     1,     1,     1,     1,     1,     1,\n",
       "             1,     1,     1,     1,     1,     1,     1,     1,     1,     1,\n",
       "             1,     1,     1,     1,     1,     1,     1,     1,     1,     1,\n",
       "             1,     1,     1,     1,     1,     1,     1,     1,     1,     1,\n",
       "             1,     1,     1,     1,     1,     1,     1,     1,     1,     1,\n",
       "             1,     1,     1,     1,     1,     1,     1,     1,     1,     1,\n",
       "             1,     1,     1,     1,     1,     1,     1,     1,     1,     1,\n",
       "             1,     1,     1,     1,     1,     1,     1,     1,     1,     1,\n",
       "             1,     1,     1,     1,     1,     1,     1,     1,     1,     1,\n",
       "             1,     1,     1,     1,     1,     1,     1,     1,     1,     1,\n",
       "             1,     1,     1,     1,     1,     1,     1,     1,     1,     1,\n",
       "             1,     1,     1,     1,     1,     1,     1,     1,     1,     1,\n",
       "             1,     1,     1,     1,     1,     1,     1,     1,     1,     1,\n",
       "             1,     1]),\n",
       " 'attention_mask': tensor([1, 1, 1, 1, 1, 1, 1, 1, 1, 1, 1, 1, 1, 1, 1, 1, 1, 1, 1, 1, 1, 1, 1, 1,\n",
       "         1, 1, 1, 1, 1, 1, 1, 1, 1, 1, 1, 1, 1, 1, 1, 1, 1, 1, 1, 1, 1, 1, 1, 1,\n",
       "         1, 1, 1, 1, 1, 1, 1, 1, 1, 1, 1, 1, 1, 1, 1, 1, 1, 1, 1, 1, 1, 1, 1, 1,\n",
       "         1, 1, 1, 1, 1, 1, 1, 1, 1, 1, 1, 1, 1, 1, 1, 1, 1, 1, 1, 1, 1, 1, 1, 1,\n",
       "         1, 1, 1, 1, 1, 1, 1, 1, 1, 1, 1, 1, 1, 1, 1, 1, 1, 1, 1, 1, 1, 1, 1, 1,\n",
       "         1, 1, 1, 1, 1, 1, 1, 1, 1, 1, 1, 1, 1, 1, 1, 1, 1, 1, 1, 1, 1, 1, 1, 1,\n",
       "         1, 1, 1, 1, 1, 1, 1, 1, 1, 1, 1, 1, 1, 1, 1, 1, 1, 1, 1, 1, 1, 1, 1, 1,\n",
       "         1, 1, 1, 1, 1, 1, 1, 1, 1, 1, 1, 1, 1, 1, 1, 1, 1, 1, 1, 1, 1, 1, 1, 1,\n",
       "         1, 1, 1, 1, 1, 1, 1, 1, 1, 1, 1, 1, 1, 1, 1, 1, 1, 1, 1, 1, 1, 1, 1, 1,\n",
       "         1, 1, 1, 1, 1, 1, 1, 1, 1, 1, 1, 1, 1, 1, 1, 1, 1, 1, 1, 1, 1, 1, 1, 1,\n",
       "         1, 1, 1, 1, 1, 1, 1, 1, 1, 1, 1, 1, 1, 1, 1, 1, 1, 1, 1, 1, 1, 1, 1, 1,\n",
       "         1, 1, 1, 1, 1, 1, 1, 1, 1, 1, 1, 1, 1, 1, 1, 1, 1, 1, 1, 1, 1, 1, 1, 1,\n",
       "         1, 1, 1, 1, 1, 1, 1, 1, 1, 1, 1, 1, 1, 1, 1, 1, 1, 1, 1, 1, 1, 1, 1, 1,\n",
       "         1, 1, 1, 1, 1, 1, 1, 1, 1, 1, 1, 1, 1, 1, 1, 1, 1, 1, 1, 1, 1, 1, 1, 1,\n",
       "         1, 1, 1, 1, 1, 1, 1, 1, 1, 1, 1, 1, 1, 1, 1, 1, 1, 1, 1, 1, 1, 1, 1, 1,\n",
       "         1, 1, 1, 1, 1, 1, 1, 1, 1, 1, 0, 0, 0, 0, 0, 0, 0, 0, 0, 0, 0, 0, 0, 0,\n",
       "         0, 0, 0, 0, 0, 0, 0, 0, 0, 0, 0, 0, 0, 0, 0, 0, 0, 0, 0, 0, 0, 0, 0, 0,\n",
       "         0, 0, 0, 0, 0, 0, 0, 0, 0, 0, 0, 0, 0, 0, 0, 0, 0, 0, 0, 0, 0, 0, 0, 0,\n",
       "         0, 0, 0, 0, 0, 0, 0, 0, 0, 0, 0, 0, 0, 0, 0, 0, 0, 0, 0, 0, 0, 0, 0, 0,\n",
       "         0, 0, 0, 0, 0, 0, 0, 0, 0, 0, 0, 0, 0, 0, 0, 0, 0, 0, 0, 0, 0, 0, 0, 0,\n",
       "         0, 0, 0, 0, 0, 0, 0, 0, 0, 0, 0, 0, 0, 0, 0, 0, 0, 0, 0, 0, 0, 0, 0, 0,\n",
       "         0, 0, 0, 0, 0, 0, 0, 0]),\n",
       " 'token_type_ids': tensor([0, 0, 0, 0, 0, 0, 0, 0, 0, 0, 0, 0, 0, 0, 0, 0, 0, 0, 0, 0, 0, 0, 0, 0,\n",
       "         0, 0, 0, 0, 0, 0, 0, 0, 0, 0, 0, 0, 0, 0, 0, 0, 0, 0, 0, 0, 0, 0, 0, 0,\n",
       "         0, 0, 0, 0, 0, 0, 0, 0, 0, 0, 0, 0, 0, 0, 0, 0, 0, 0, 0, 0, 0, 0, 0, 0,\n",
       "         0, 0, 0, 0, 0, 0, 0, 0, 0, 0, 0, 0, 0, 0, 0, 0, 0, 0, 0, 0, 0, 0, 0, 0,\n",
       "         0, 0, 0, 0, 0, 0, 0, 0, 0, 0, 0, 0, 0, 0, 0, 0, 0, 0, 0, 0, 0, 0, 0, 0,\n",
       "         0, 0, 0, 0, 0, 0, 0, 0, 0, 0, 0, 0, 0, 0, 0, 0, 0, 0, 0, 0, 0, 0, 0, 0,\n",
       "         0, 0, 0, 0, 0, 0, 0, 0, 0, 0, 0, 0, 0, 0, 0, 0, 0, 0, 0, 0, 0, 0, 0, 0,\n",
       "         0, 0, 0, 0, 0, 0, 0, 0, 0, 0, 0, 0, 0, 0, 0, 0, 0, 0, 0, 0, 0, 0, 0, 0,\n",
       "         0, 0, 0, 0, 0, 0, 0, 0, 0, 0, 0, 0, 0, 0, 0, 0, 0, 0, 0, 0, 0, 0, 0, 0,\n",
       "         0, 0, 0, 0, 0, 0, 0, 0, 0, 0, 0, 0, 0, 0, 0, 0, 0, 0, 0, 0, 0, 0, 0, 0,\n",
       "         0, 0, 0, 0, 0, 0, 0, 0, 0, 0, 0, 0, 0, 0, 0, 0, 0, 0, 0, 0, 0, 0, 0, 0,\n",
       "         0, 0, 0, 0, 0, 0, 0, 0, 0, 0, 0, 0, 0, 0, 0, 0, 0, 0, 0, 0, 0, 0, 0, 0,\n",
       "         0, 0, 0, 0, 0, 0, 0, 0, 0, 0, 0, 0, 0, 0, 0, 0, 0, 0, 0, 0, 0, 0, 0, 0,\n",
       "         0, 0, 0, 0, 0, 0, 0, 0, 0, 0, 0, 0, 0, 0, 0, 0, 0, 0, 0, 0, 0, 0, 0, 0,\n",
       "         0, 0, 0, 0, 0, 0, 0, 0, 0, 0, 0, 0, 0, 0, 0, 0, 0, 0, 0, 0, 0, 0, 0, 0,\n",
       "         0, 0, 0, 0, 0, 0, 0, 0, 0, 0, 0, 0, 0, 0, 0, 0, 0, 0, 0, 0, 0, 0, 0, 0,\n",
       "         0, 0, 0, 0, 0, 0, 0, 0, 0, 0, 0, 0, 0, 0, 0, 0, 0, 0, 0, 0, 0, 0, 0, 0,\n",
       "         0, 0, 0, 0, 0, 0, 0, 0, 0, 0, 0, 0, 0, 0, 0, 0, 0, 0, 0, 0, 0, 0, 0, 0,\n",
       "         0, 0, 0, 0, 0, 0, 0, 0, 0, 0, 0, 0, 0, 0, 0, 0, 0, 0, 0, 0, 0, 0, 0, 0,\n",
       "         0, 0, 0, 0, 0, 0, 0, 0, 0, 0, 0, 0, 0, 0, 0, 0, 0, 0, 0, 0, 0, 0, 0, 0,\n",
       "         0, 0, 0, 0, 0, 0, 0, 0, 0, 0, 0, 0, 0, 0, 0, 0, 0, 0, 0, 0, 0, 0, 0, 0,\n",
       "         0, 0, 0, 0, 0, 0, 0, 0]),\n",
       " 'targets': tensor([0., 1., 1., 1., 1., 1., 0., 0., 0., 0., 0., 1., 1., 0.]),\n",
       " 'title': 'A seven-day Helicobacter pylori treatment regimen using clarithromycin, omeprazole and tripotassium dicitrato bismuthate.. AIM: To evaluate clarithromycin 500 mg t.d.s., tripotassium dicitrato bismuthate 240 mg b.d. and omeprazole 20 mg b.d. for 7 days as a Helicobacter pylori treatment regimen.METHODS: The H. pylori status of dyspeptic patients undergoing endoscopy was assessed by histology, culture and rapid urease testing of biopsies and by 13C-urea breath test. Fifty patients who were H. pylori-positive were treated with the above treatment regimen for 7 days. Those patients with active duodenal ulcers present at endoscopy were given omeprazole 20 mg nocte for a further 21 days. Not less than 28 days after completing treatment, all tests were repeated to reassess H. pylori status. Bacterial sensitivity of H. pylori cultures was determined and patients recorded any side-effects.RESULTS: On an intention-to-treat basis, H. pylori infection was cured in 90% (95% CI: 78-96%) of patients. Taste disturbance was experienced by 35% patients. Compliance was excellent, with 96% patients taking more than 95% of tablets. Metronidazole resistance was 41% but all cultures were sensitive to clarithromycin.CONCLUSIONS: This 7-day treatment achieved a high level of cure of H. pylori infection with relatively minor side-effects. It may have a role to play, particularly where there is a high level of metronidazole resistance.'}"
      ]
     },
     "execution_count": 47,
     "metadata": {},
     "output_type": "execute_result"
    }
   ],
   "source": [
    "# testing the dataset\n",
    "next(iter(train_dataset))"
   ]
  },
  {
   "cell_type": "code",
   "execution_count": 48,
   "id": "2d827c73",
   "metadata": {
    "execution": {
     "iopub.execute_input": "2024-04-14T09:15:57.658645Z",
     "iopub.status.busy": "2024-04-14T09:15:57.657898Z",
     "iopub.status.idle": "2024-04-14T09:15:57.663647Z",
     "shell.execute_reply": "2024-04-14T09:15:57.662807Z"
    },
    "papermill": {
     "duration": 0.026648,
     "end_time": "2024-04-14T09:15:57.665564",
     "exception": false,
     "start_time": "2024-04-14T09:15:57.638916",
     "status": "completed"
    },
    "tags": []
   },
   "outputs": [],
   "source": [
    "# Data loaders\n",
    "train_data_loader = torch.utils.data.DataLoader(train_dataset, \n",
    "    batch_size=TRAIN_BATCH_SIZE,\n",
    "    shuffle=True,\n",
    "    num_workers=0\n",
    ")\n",
    "\n",
    "val_data_loader = torch.utils.data.DataLoader(valid_dataset, \n",
    "    batch_size=VALID_BATCH_SIZE,\n",
    "    shuffle=False,\n",
    "    num_workers=0\n",
    ")\n",
    "\n",
    "test_data_loader = torch.utils.data.DataLoader(test_dataset, \n",
    "    batch_size=TEST_BATCH_SIZE,\n",
    "    shuffle=False,\n",
    "    num_workers=0)                                             "
   ]
  },
  {
   "cell_type": "markdown",
   "id": "923fa0b0",
   "metadata": {},
   "source": [
    "### RoBERTaPubMed Class\n",
    "\n",
    "This class defines a PyTorch neural network model based on RoBERTa for performing classification tasks on PubMed dataset. Here's a breakdown of its components:\n",
    "\n",
    "#### Initialization\n",
    "\n",
    "- `target_classes`: The number of target classes for classification (default is set to 14).\n",
    "\n",
    "#### Attributes\n",
    "\n",
    "- `roberta_model`: A pre-trained RoBERTa model loaded from Hugging Face's `transformers` library. It utilizes the 'roberta-base' variant and returns the model output as a dictionary.\n",
    "- `dropout`: A dropout layer with a dropout probability of 0.3.\n",
    "- `linear`: A linear layer that takes the pooled output of RoBERTa (768-dimensional) as input and outputs predictions for the target classes.\n",
    "\n",
    "#### Methods\n",
    "\n",
    "##### `__init__()`\n",
    "\n",
    "- Initializes the RoBERTaPubMed object, setting up the RoBERTa model, dropout layer, and linear layer for classification.\n",
    "\n",
    "##### `forward()`\n",
    "\n",
    "- Defines the forward pass of the neural network model.\n",
    "- Accepts input tensors (`input_ids`, `attn_mask`, `token_type_ids`) representing tokenized text data.\n",
    "- Passes the input tensors through the RoBERTa model to obtain the model output.\n",
    "- Applies dropout to the pooled output obtained from the RoBERTa model.\n",
    "- Passes the dropout output through the linear layer to obtain predictions for the target classes.\n",
    "\n",
    "#### Usage\n",
    "\n",
    "To use this model for classification tasks on PubMed dataset, simply instantiate an object of the `RoBERTaPubMed` class. The default configuration utilizes the 'roberta-base' pre-trained model for feature extraction and classification.\n",
    "\n",
    "```python\n",
    "model = RoBERTaPubMed()\n"
   ]
  },
  {
   "cell_type": "code",
   "execution_count": 49,
   "id": "73679e2d",
   "metadata": {
    "execution": {
     "iopub.execute_input": "2024-04-14T09:15:57.702673Z",
     "iopub.status.busy": "2024-04-14T09:15:57.702395Z",
     "iopub.status.idle": "2024-04-14T09:16:00.670839Z",
     "shell.execute_reply": "2024-04-14T09:16:00.669828Z"
    },
    "papermill": {
     "duration": 2.989509,
     "end_time": "2024-04-14T09:16:00.673067",
     "exception": false,
     "start_time": "2024-04-14T09:15:57.683558",
     "status": "completed"
    },
    "tags": []
   },
   "outputs": [
    {
     "data": {
      "application/vnd.jupyter.widget-view+json": {
       "model_id": "611cf311711647bdaeaf55b7b49883af",
       "version_major": 2,
       "version_minor": 0
      },
      "text/plain": [
       "model.safetensors:   0%|          | 0.00/499M [00:00<?, ?B/s]"
      ]
     },
     "metadata": {},
     "output_type": "display_data"
    },
    {
     "name": "stderr",
     "output_type": "stream",
     "text": [
      "Some weights of RobertaModel were not initialized from the model checkpoint at roberta-base and are newly initialized: ['roberta.pooler.dense.bias', 'roberta.pooler.dense.weight']\n",
      "You should probably TRAIN this model on a down-stream task to be able to use it for predictions and inference.\n"
     ]
    }
   ],
   "source": [
    "class RoBERTaPubMed(torch.nn.Module):\n",
    "    def __init__(self, target_classes=14):\n",
    "        super(RoBERTaPubMed, self).__init__()\n",
    "        self.roberta_model = RobertaModel.from_pretrained('roberta-base', return_dict=True)\n",
    "        self.dropout = torch.nn.Dropout(0.3)\n",
    "        self.linear = torch.nn.Linear(768, target_classes)\n",
    "\n",
    "    def forward(self, input_ids, attn_mask, token_type_ids):\n",
    "        output = self.roberta_model(\n",
    "            input_ids, \n",
    "            attention_mask=attn_mask, \n",
    "            token_type_ids=token_type_ids\n",
    "        )\n",
    "        output_dropout = self.dropout(output.pooler_output)\n",
    "        output = self.linear(output_dropout)\n",
    "        return output\n",
    "\n",
    "model = RoBERTaPubMed()\n"
   ]
  },
  {
   "cell_type": "code",
   "execution_count": 50,
   "id": "0dff77d0",
   "metadata": {
    "execution": {
     "iopub.execute_input": "2024-04-14T09:16:00.712172Z",
     "iopub.status.busy": "2024-04-14T09:16:00.711792Z",
     "iopub.status.idle": "2024-04-14T09:16:00.991055Z",
     "shell.execute_reply": "2024-04-14T09:16:00.990158Z"
    },
    "papermill": {
     "duration": 0.300961,
     "end_time": "2024-04-14T09:16:00.993024",
     "exception": false,
     "start_time": "2024-04-14T09:16:00.692063",
     "status": "completed"
    },
    "tags": []
   },
   "outputs": [
    {
     "data": {
      "text/plain": [
       "RoBERTaPubMed(\n",
       "  (roberta_model): RobertaModel(\n",
       "    (embeddings): RobertaEmbeddings(\n",
       "      (word_embeddings): Embedding(50265, 768, padding_idx=1)\n",
       "      (position_embeddings): Embedding(514, 768, padding_idx=1)\n",
       "      (token_type_embeddings): Embedding(1, 768)\n",
       "      (LayerNorm): LayerNorm((768,), eps=1e-05, elementwise_affine=True)\n",
       "      (dropout): Dropout(p=0.1, inplace=False)\n",
       "    )\n",
       "    (encoder): RobertaEncoder(\n",
       "      (layer): ModuleList(\n",
       "        (0-11): 12 x RobertaLayer(\n",
       "          (attention): RobertaAttention(\n",
       "            (self): RobertaSelfAttention(\n",
       "              (query): Linear(in_features=768, out_features=768, bias=True)\n",
       "              (key): Linear(in_features=768, out_features=768, bias=True)\n",
       "              (value): Linear(in_features=768, out_features=768, bias=True)\n",
       "              (dropout): Dropout(p=0.1, inplace=False)\n",
       "            )\n",
       "            (output): RobertaSelfOutput(\n",
       "              (dense): Linear(in_features=768, out_features=768, bias=True)\n",
       "              (LayerNorm): LayerNorm((768,), eps=1e-05, elementwise_affine=True)\n",
       "              (dropout): Dropout(p=0.1, inplace=False)\n",
       "            )\n",
       "          )\n",
       "          (intermediate): RobertaIntermediate(\n",
       "            (dense): Linear(in_features=768, out_features=3072, bias=True)\n",
       "            (intermediate_act_fn): GELUActivation()\n",
       "          )\n",
       "          (output): RobertaOutput(\n",
       "            (dense): Linear(in_features=3072, out_features=768, bias=True)\n",
       "            (LayerNorm): LayerNorm((768,), eps=1e-05, elementwise_affine=True)\n",
       "            (dropout): Dropout(p=0.1, inplace=False)\n",
       "          )\n",
       "        )\n",
       "      )\n",
       "    )\n",
       "    (pooler): RobertaPooler(\n",
       "      (dense): Linear(in_features=768, out_features=768, bias=True)\n",
       "      (activation): Tanh()\n",
       "    )\n",
       "  )\n",
       "  (dropout): Dropout(p=0.3, inplace=False)\n",
       "  (linear): Linear(in_features=768, out_features=14, bias=True)\n",
       ")"
      ]
     },
     "execution_count": 50,
     "metadata": {},
     "output_type": "execute_result"
    }
   ],
   "source": [
    "model.to(device)"
   ]
  },
  {
   "cell_type": "code",
   "execution_count": 51,
   "id": "14ce9f74",
   "metadata": {
    "execution": {
     "iopub.execute_input": "2024-04-14T09:16:01.032002Z",
     "iopub.status.busy": "2024-04-14T09:16:01.031413Z",
     "iopub.status.idle": "2024-04-14T09:16:01.035919Z",
     "shell.execute_reply": "2024-04-14T09:16:01.035064Z"
    },
    "papermill": {
     "duration": 0.025974,
     "end_time": "2024-04-14T09:16:01.037742",
     "exception": false,
     "start_time": "2024-04-14T09:16:01.011768",
     "status": "completed"
    },
    "tags": []
   },
   "outputs": [],
   "source": [
    "\n",
    "def loss_fn(outputs, targets):\n",
    "    return torch.nn.BCEWithLogitsLoss()(outputs, targets)"
   ]
  },
  {
   "cell_type": "markdown",
   "id": "c06b2e0c",
   "metadata": {},
   "source": [
    "### Optimizer Initialization\n",
    "\n",
    "In this code snippet, we initialize an AdamW optimizer for training the model. Here's a breakdown:\n",
    "\n",
    "#### AdamW Optimizer\n",
    "\n",
    "AdamW is a variant of the Adam optimizer that incorporates weight decay directly into the update step, which is beneficial for training neural network models. It is commonly used in conjunction with transformer-based models like RoBERTa.\n",
    "\n",
    "#### Initialization\n",
    "\n",
    "We instantiate the AdamW optimizer by passing the model parameters (`model.parameters()`) and the learning rate (`lr=1e-5`). Additionally, we suppress any deprecation warnings that may occur during optimization using the `no_deprecation_warning=True` argument.\n",
    "\n",
    "#### Usage\n",
    "\n",
    "The initialized optimizer (`optimizer`) can then be used during the training loop to update the model parameters based on computed gradients.\n",
    "\n",
    "\n"
   ]
  },
  {
   "cell_type": "code",
   "execution_count": 52,
   "id": "d338cc67",
   "metadata": {
    "execution": {
     "iopub.execute_input": "2024-04-14T09:16:01.083547Z",
     "iopub.status.busy": "2024-04-14T09:16:01.082536Z",
     "iopub.status.idle": "2024-04-14T09:16:01.099021Z",
     "shell.execute_reply": "2024-04-14T09:16:01.098044Z"
    },
    "papermill": {
     "duration": 0.040191,
     "end_time": "2024-04-14T09:16:01.102083",
     "exception": false,
     "start_time": "2024-04-14T09:16:01.061892",
     "status": "completed"
    },
    "tags": []
   },
   "outputs": [],
   "source": [
    "from transformers import AdamW\n",
    "\n",
    "# define the optimizer\n",
    "optimizer = AdamW(model.parameters(), lr = 1e-5, no_deprecation_warning=True)   "
   ]
  },
  {
   "cell_type": "code",
   "execution_count": 53,
   "id": "a89527a4",
   "metadata": {
    "execution": {
     "iopub.execute_input": "2024-04-14T09:16:01.154983Z",
     "iopub.status.busy": "2024-04-14T09:16:01.154160Z",
     "iopub.status.idle": "2024-04-14T09:16:01.162678Z",
     "shell.execute_reply": "2024-04-14T09:16:01.161952Z"
    },
    "papermill": {
     "duration": 0.03255,
     "end_time": "2024-04-14T09:16:01.164661",
     "exception": false,
     "start_time": "2024-04-14T09:16:01.132111",
     "status": "completed"
    },
    "tags": []
   },
   "outputs": [],
   "source": [
    "# Define your training function\n",
    "def train_model(training_loader, model, optimizer, loss_fn, device):\n",
    "    model.train()\n",
    "    loop = tqdm(enumerate(training_loader), total=len(training_loader), leave=True)\n",
    "    \n",
    "    total_loss = 0.0  # Initialize total_loss\n",
    "    for batch_idx, data in loop:\n",
    "        ids = data['input_ids'].to(device, dtype=torch.long)\n",
    "        mask = data['attention_mask'].to(device, dtype=torch.long)\n",
    "        token_type_ids = data['token_type_ids'].to(device, dtype=torch.long)\n",
    "        targets = data['targets'].to(device, dtype=torch.float)\n",
    "        \n",
    "        optimizer.zero_grad()\n",
    "        outputs = model(ids, mask, token_type_ids)\n",
    "        loss = loss_fn(outputs, targets)\n",
    "        total_loss += loss.item()\n",
    "        loss.backward()\n",
    "        optimizer.step()\n",
    "\n",
    "        loop.set_description(f\"Training Epoch [{epoch}/{EPOCHS}]\")\n",
    "        loop.set_postfix(loss=loss.item())\n",
    "        \n",
    "    return total_loss / len(training_loader)"
   ]
  },
  {
   "cell_type": "code",
   "execution_count": 54,
   "id": "db2ef8ce",
   "metadata": {
    "execution": {
     "iopub.execute_input": "2024-04-14T09:16:01.203013Z",
     "iopub.status.busy": "2024-04-14T09:16:01.202538Z",
     "iopub.status.idle": "2024-04-14T09:16:01.211379Z",
     "shell.execute_reply": "2024-04-14T09:16:01.210568Z"
    },
    "papermill": {
     "duration": 0.030064,
     "end_time": "2024-04-14T09:16:01.213312",
     "exception": false,
     "start_time": "2024-04-14T09:16:01.183248",
     "status": "completed"
    },
    "tags": []
   },
   "outputs": [],
   "source": [
    "# Define your evaluation function\n",
    "def eval_model(validation_loader, model, loss_fn, device, action):\n",
    "    model.eval()\n",
    "    total_loss = 0\n",
    "    all_targets = []\n",
    "    all_predictions = []\n",
    "    loop = tqdm(enumerate(validation_loader), total=len(validation_loader), leave=True)\n",
    "    with torch.no_grad():\n",
    "        for batch_idx, data in loop:\n",
    "            ids = data['input_ids'].to(device, dtype=torch.long)\n",
    "            mask = data['attention_mask'].to(device, dtype=torch.long)\n",
    "            token_type_ids = data['token_type_ids'].to(device, dtype=torch.long)\n",
    "            targets = data['targets'].to(device, dtype=torch.float)\n",
    "\n",
    "            outputs = model(ids, mask, token_type_ids)\n",
    "            loss = loss_fn(outputs, targets)\n",
    "            total_loss += loss.item()\n",
    "\n",
    "            # Apply thresholding to convert outputs to binary labels\n",
    "            predictions = (outputs > 0.5).float()  \n",
    "            all_targets.extend(targets.cpu().numpy())\n",
    "            all_predictions.extend(predictions.cpu().numpy())\n",
    "\n",
    "            loop.set_description(f\"{action} Epoch [{epoch}/{EPOCHS}]\")\n",
    "            loop.set_postfix(loss=total_loss / (batch_idx + 1))\n",
    "\n",
    "    return total_loss / len(validation_loader), np.array(all_targets), np.array(all_predictions)"
   ]
  },
  {
   "cell_type": "code",
   "execution_count": 55,
   "id": "4fb2fdb3",
   "metadata": {
    "execution": {
     "iopub.execute_input": "2024-04-14T09:16:01.251710Z",
     "iopub.status.busy": "2024-04-14T09:16:01.250995Z",
     "iopub.status.idle": "2024-04-14T09:16:01.255448Z",
     "shell.execute_reply": "2024-04-14T09:16:01.254633Z"
    },
    "papermill": {
     "duration": 0.025695,
     "end_time": "2024-04-14T09:16:01.257358",
     "exception": false,
     "start_time": "2024-04-14T09:16:01.231663",
     "status": "completed"
    },
    "tags": []
   },
   "outputs": [],
   "source": [
    "\n",
    "device = torch.device(\"cuda\" if torch.cuda.is_available() else \"cpu\")"
   ]
  },
  {
   "cell_type": "code",
   "execution_count": 56,
   "id": "29beadae",
   "metadata": {
    "execution": {
     "iopub.execute_input": "2024-04-14T09:16:01.295534Z",
     "iopub.status.busy": "2024-04-14T09:16:01.295074Z",
     "iopub.status.idle": "2024-04-14T09:16:01.298703Z",
     "shell.execute_reply": "2024-04-14T09:16:01.297882Z"
    },
    "papermill": {
     "duration": 0.024975,
     "end_time": "2024-04-14T09:16:01.300571",
     "exception": false,
     "start_time": "2024-04-14T09:16:01.275596",
     "status": "completed"
    },
    "tags": []
   },
   "outputs": [],
   "source": []
  },
  {
   "cell_type": "code",
   "execution_count": 57,
   "id": "bd39f0fa",
   "metadata": {
    "execution": {
     "iopub.execute_input": "2024-04-14T09:16:01.338615Z",
     "iopub.status.busy": "2024-04-14T09:16:01.338302Z",
     "iopub.status.idle": "2024-04-14T09:16:01.342000Z",
     "shell.execute_reply": "2024-04-14T09:16:01.341188Z"
    },
    "papermill": {
     "duration": 0.024883,
     "end_time": "2024-04-14T09:16:01.343864",
     "exception": false,
     "start_time": "2024-04-14T09:16:01.318981",
     "status": "completed"
    },
    "tags": []
   },
   "outputs": [],
   "source": [
    "EPOCHS=6"
   ]
  },
  {
   "cell_type": "code",
   "execution_count": 58,
   "id": "dc528d56",
   "metadata": {
    "execution": {
     "iopub.execute_input": "2024-04-14T09:16:01.381937Z",
     "iopub.status.busy": "2024-04-14T09:16:01.381649Z",
     "iopub.status.idle": "2024-04-14T13:01:32.362031Z",
     "shell.execute_reply": "2024-04-14T13:01:32.360967Z"
    },
    "papermill": {
     "duration": 13531.002872,
     "end_time": "2024-04-14T13:01:32.365139",
     "exception": false,
     "start_time": "2024-04-14T09:16:01.362267",
     "status": "completed"
    },
    "tags": []
   },
   "outputs": [
    {
     "name": "stdout",
     "output_type": "stream",
     "text": [
      "Epoch 1/6\n"
     ]
    },
    {
     "name": "stderr",
     "output_type": "stream",
     "text": [
      "Training Epoch [1/6]: 100%|██████████| 2188/2188 [32:32<00:00,  1.12it/s, loss=0.242]\n",
      "Validation Epoch [1/6]: 100%|██████████| 469/469 [02:35<00:00,  3.01it/s, loss=0.28]\n",
      "Testing Epoch [1/6]: 100%|██████████| 469/469 [02:36<00:00,  3.01it/s, loss=0.278]\n"
     ]
    },
    {
     "name": "stdout",
     "output_type": "stream",
     "text": [
      "Train Loss: 0.3277, Validation Loss: 0.2797, Test Loss: 0.2777\n",
      "Epoch 2/6\n"
     ]
    },
    {
     "name": "stderr",
     "output_type": "stream",
     "text": [
      "Training Epoch [2/6]: 100%|██████████| 2188/2188 [32:22<00:00,  1.13it/s, loss=0.489]\n",
      "Validation Epoch [2/6]: 100%|██████████| 469/469 [02:34<00:00,  3.03it/s, loss=0.267]\n",
      "Testing Epoch [2/6]: 100%|██████████| 469/469 [02:34<00:00,  3.03it/s, loss=0.265]\n"
     ]
    },
    {
     "name": "stdout",
     "output_type": "stream",
     "text": [
      "Train Loss: 0.2689, Validation Loss: 0.2672, Test Loss: 0.2647\n",
      "Epoch 3/6\n"
     ]
    },
    {
     "name": "stderr",
     "output_type": "stream",
     "text": [
      "Training Epoch [3/6]: 100%|██████████| 2188/2188 [32:23<00:00,  1.13it/s, loss=0.265]\n",
      "Validation Epoch [3/6]: 100%|██████████| 469/469 [02:34<00:00,  3.03it/s, loss=0.26]\n",
      "Testing Epoch [3/6]: 100%|██████████| 469/469 [02:34<00:00,  3.03it/s, loss=0.258]\n"
     ]
    },
    {
     "name": "stdout",
     "output_type": "stream",
     "text": [
      "Train Loss: 0.2478, Validation Loss: 0.2597, Test Loss: 0.2579\n",
      "Epoch 4/6\n"
     ]
    },
    {
     "name": "stderr",
     "output_type": "stream",
     "text": [
      "Training Epoch [4/6]: 100%|██████████| 2188/2188 [32:25<00:00,  1.12it/s, loss=0.281]\n",
      "Validation Epoch [4/6]: 100%|██████████| 469/469 [02:34<00:00,  3.03it/s, loss=0.263]\n",
      "Testing Epoch [4/6]: 100%|██████████| 469/469 [02:34<00:00,  3.03it/s, loss=0.261]\n"
     ]
    },
    {
     "name": "stdout",
     "output_type": "stream",
     "text": [
      "Train Loss: 0.2295, Validation Loss: 0.2632, Test Loss: 0.2606\n",
      "Epoch 5/6\n"
     ]
    },
    {
     "name": "stderr",
     "output_type": "stream",
     "text": [
      "Training Epoch [5/6]: 100%|██████████| 2188/2188 [32:24<00:00,  1.13it/s, loss=0.216]\n",
      "Validation Epoch [5/6]: 100%|██████████| 469/469 [02:34<00:00,  3.03it/s, loss=0.265]\n",
      "Testing Epoch [5/6]: 100%|██████████| 469/469 [02:34<00:00,  3.03it/s, loss=0.262]\n"
     ]
    },
    {
     "name": "stdout",
     "output_type": "stream",
     "text": [
      "Train Loss: 0.2126, Validation Loss: 0.2654, Test Loss: 0.2620\n",
      "Epoch 6/6\n"
     ]
    },
    {
     "name": "stderr",
     "output_type": "stream",
     "text": [
      "Training Epoch [6/6]: 100%|██████████| 2188/2188 [32:20<00:00,  1.13it/s, loss=0.26]\n",
      "Validation Epoch [6/6]: 100%|██████████| 469/469 [02:34<00:00,  3.03it/s, loss=0.273]\n",
      "Testing Epoch [6/6]: 100%|██████████| 469/469 [02:34<00:00,  3.03it/s, loss=0.269]"
     ]
    },
    {
     "name": "stdout",
     "output_type": "stream",
     "text": [
      "Train Loss: 0.1949, Validation Loss: 0.2728, Test Loss: 0.2693\n"
     ]
    },
    {
     "name": "stderr",
     "output_type": "stream",
     "text": [
      "\n"
     ]
    }
   ],
   "source": [
    "from sklearn.metrics import precision_score, recall_score, f1_score\n",
    "from tqdm import tqdm\n",
    "\n",
    "\n",
    "def compute_metrics(targets, outputs):\n",
    "    precision = precision_score(targets, outputs, average=None)\n",
    "    recall = recall_score(targets, outputs, average=None)\n",
    "    f1 = f1_score(targets, outputs, average=None)\n",
    "    return precision, recall, f1\n",
    "\n",
    "\n",
    "history = defaultdict(list)\n",
    "best_val_loss = float('inf')\n",
    "\n",
    "for epoch in range(1, EPOCHS + 1):\n",
    "    print(f'Epoch {epoch}/{EPOCHS}')\n",
    "    \n",
    "    train_loss = train_model(train_data_loader, model, optimizer, loss_fn, device)\n",
    "    val_loss, val_targets, val_predictions = eval_model(val_data_loader, model, loss_fn, device,action='Validation')\n",
    "    test_loss, test_targets, test_predictions = eval_model(test_data_loader, model, loss_fn, device, action= \"Testing\")\n",
    "    \n",
    "    \n",
    "    val_precision, val_recall, val_f1 = compute_metrics(val_targets, val_predictions)\n",
    "    test_precision, test_recall, test_f1 = compute_metrics(test_targets, test_predictions)\n",
    "    \n",
    "    \n",
    "    history['train_loss'].append(train_loss)\n",
    "    history['val_loss'].append(val_loss)\n",
    "    history['val_precision'].append(val_precision)\n",
    "    history['val_recall'].append(val_recall)\n",
    "    history['val_f1'].append(val_f1)\n",
    "    history['test_loss'].append(test_loss)\n",
    "    history['test_precision'].append(test_precision)\n",
    "    history['test_recall'].append(test_recall)\n",
    "    history['test_f1'].append(test_f1)\n",
    "    \n",
    "    print(f'Train Loss: {train_loss:.4f}, Validation Loss: {val_loss:.4f}, Test Loss: {test_loss:.4f}')\n",
    "    \n",
    "    # Save best model based on validation loss\n",
    "    if val_loss < best_val_loss:\n",
    "        torch.save(model.state_dict(), 'best_model.pt')\n",
    "        best_val_loss = val_loss\n",
    "    \n",
    "    # Save metrics to CSV after each epoch\n",
    "    df_metrics = pd.DataFrame(history)\n",
    "    df_metrics.to_csv('metrics.csv', index=False)"
   ]
  },
  {
   "cell_type": "code",
   "execution_count": null,
   "id": "7d0f8542",
   "metadata": {
    "papermill": {
     "duration": 4.581488,
     "end_time": "2024-04-14T13:01:50.760406",
     "exception": false,
     "start_time": "2024-04-14T13:01:46.178918",
     "status": "completed"
    },
    "tags": []
   },
   "outputs": [],
   "source": []
  },
  {
   "cell_type": "code",
   "execution_count": null,
   "id": "ab121c98",
   "metadata": {
    "papermill": {
     "duration": 4.582411,
     "end_time": "2024-04-14T13:02:00.071057",
     "exception": false,
     "start_time": "2024-04-14T13:01:55.488646",
     "status": "completed"
    },
    "tags": []
   },
   "outputs": [],
   "source": []
  },
  {
   "cell_type": "code",
   "execution_count": null,
   "id": "e75d6d50",
   "metadata": {
    "papermill": {
     "duration": 4.664244,
     "end_time": "2024-04-14T13:02:09.265741",
     "exception": false,
     "start_time": "2024-04-14T13:02:04.601497",
     "status": "completed"
    },
    "tags": []
   },
   "outputs": [],
   "source": []
  }
 ],
 "metadata": {
  "kaggle": {
   "accelerator": "gpu",
   "dataSources": [
    {
     "datasetId": 4779052,
     "sourceId": 8094384,
     "sourceType": "datasetVersion"
    }
   ],
   "dockerImageVersionId": 30684,
   "isGpuEnabled": true,
   "isInternetEnabled": true,
   "language": "python",
   "sourceType": "notebook"
  },
  "kernelspec": {
   "display_name": "Python 3",
   "language": "python",
   "name": "python3"
  },
  "language_info": {
   "codemirror_mode": {
    "name": "ipython",
    "version": 3
   },
   "file_extension": ".py",
   "mimetype": "text/x-python",
   "name": "python",
   "nbconvert_exporter": "python",
   "pygments_lexer": "ipython3",
   "version": "3.11.5"
  },
  "papermill": {
   "default_parameters": {},
   "duration": 13597.806497,
   "end_time": "2024-04-14T13:02:15.612077",
   "environment_variables": {},
   "exception": null,
   "input_path": "__notebook__.ipynb",
   "output_path": "__notebook__.ipynb",
   "parameters": {},
   "start_time": "2024-04-14T09:15:37.805580",
   "version": "2.5.0"
  },
  "widgets": {
   "application/vnd.jupyter.widget-state+json": {
    "state": {
     "077465539124415a91332db6daf6bf2c": {
      "model_module": "@jupyter-widgets/controls",
      "model_module_version": "1.5.0",
      "model_name": "FloatProgressModel",
      "state": {
       "_dom_classes": [],
       "_model_module": "@jupyter-widgets/controls",
       "_model_module_version": "1.5.0",
       "_model_name": "FloatProgressModel",
       "_view_count": null,
       "_view_module": "@jupyter-widgets/controls",
       "_view_module_version": "1.5.0",
       "_view_name": "ProgressView",
       "bar_style": "success",
       "description": "",
       "description_tooltip": null,
       "layout": "IPY_MODEL_2701a1336f414496aaf4db3230c0bd6b",
       "max": 481,
       "min": 0,
       "orientation": "horizontal",
       "style": "IPY_MODEL_f30ae0d1211641c890577b8a436dc207",
       "value": 481
      }
     },
     "0996a7f8c2aa40288e9e62751266a705": {
      "model_module": "@jupyter-widgets/controls",
      "model_module_version": "1.5.0",
      "model_name": "HTMLModel",
      "state": {
       "_dom_classes": [],
       "_model_module": "@jupyter-widgets/controls",
       "_model_module_version": "1.5.0",
       "_model_name": "HTMLModel",
       "_view_count": null,
       "_view_module": "@jupyter-widgets/controls",
       "_view_module_version": "1.5.0",
       "_view_name": "HTMLView",
       "description": "",
       "description_tooltip": null,
       "layout": "IPY_MODEL_b28a55c8daa54388aab9eaaf2f0d46d6",
       "placeholder": "​",
       "style": "IPY_MODEL_5cd89bcad0e4493bb5d6716292052edf",
       "value": " 1.36M/1.36M [00:00&lt;00:00, 19.6MB/s]"
      }
     },
     "0c7c313cd28040e496e33119b75c7157": {
      "model_module": "@jupyter-widgets/controls",
      "model_module_version": "1.5.0",
      "model_name": "DescriptionStyleModel",
      "state": {
       "_model_module": "@jupyter-widgets/controls",
       "_model_module_version": "1.5.0",
       "_model_name": "DescriptionStyleModel",
       "_view_count": null,
       "_view_module": "@jupyter-widgets/base",
       "_view_module_version": "1.2.0",
       "_view_name": "StyleView",
       "description_width": ""
      }
     },
     "0d0b6b16dbe8478d995c9f459b6ea23e": {
      "model_module": "@jupyter-widgets/base",
      "model_module_version": "1.2.0",
      "model_name": "LayoutModel",
      "state": {
       "_model_module": "@jupyter-widgets/base",
       "_model_module_version": "1.2.0",
       "_model_name": "LayoutModel",
       "_view_count": null,
       "_view_module": "@jupyter-widgets/base",
       "_view_module_version": "1.2.0",
       "_view_name": "LayoutView",
       "align_content": null,
       "align_items": null,
       "align_self": null,
       "border": null,
       "bottom": null,
       "display": null,
       "flex": null,
       "flex_flow": null,
       "grid_area": null,
       "grid_auto_columns": null,
       "grid_auto_flow": null,
       "grid_auto_rows": null,
       "grid_column": null,
       "grid_gap": null,
       "grid_row": null,
       "grid_template_areas": null,
       "grid_template_columns": null,
       "grid_template_rows": null,
       "height": null,
       "justify_content": null,
       "justify_items": null,
       "left": null,
       "margin": null,
       "max_height": null,
       "max_width": null,
       "min_height": null,
       "min_width": null,
       "object_fit": null,
       "object_position": null,
       "order": null,
       "overflow": null,
       "overflow_x": null,
       "overflow_y": null,
       "padding": null,
       "right": null,
       "top": null,
       "visibility": null,
       "width": null
      }
     },
     "0fa7eab775a9469b84cd99ac8b060b6b": {
      "model_module": "@jupyter-widgets/controls",
      "model_module_version": "1.5.0",
      "model_name": "DescriptionStyleModel",
      "state": {
       "_model_module": "@jupyter-widgets/controls",
       "_model_module_version": "1.5.0",
       "_model_name": "DescriptionStyleModel",
       "_view_count": null,
       "_view_module": "@jupyter-widgets/base",
       "_view_module_version": "1.2.0",
       "_view_name": "StyleView",
       "description_width": ""
      }
     },
     "1009ae3187ba46448fcec028ecbd7fde": {
      "model_module": "@jupyter-widgets/base",
      "model_module_version": "1.2.0",
      "model_name": "LayoutModel",
      "state": {
       "_model_module": "@jupyter-widgets/base",
       "_model_module_version": "1.2.0",
       "_model_name": "LayoutModel",
       "_view_count": null,
       "_view_module": "@jupyter-widgets/base",
       "_view_module_version": "1.2.0",
       "_view_name": "LayoutView",
       "align_content": null,
       "align_items": null,
       "align_self": null,
       "border": null,
       "bottom": null,
       "display": null,
       "flex": null,
       "flex_flow": null,
       "grid_area": null,
       "grid_auto_columns": null,
       "grid_auto_flow": null,
       "grid_auto_rows": null,
       "grid_column": null,
       "grid_gap": null,
       "grid_row": null,
       "grid_template_areas": null,
       "grid_template_columns": null,
       "grid_template_rows": null,
       "height": null,
       "justify_content": null,
       "justify_items": null,
       "left": null,
       "margin": null,
       "max_height": null,
       "max_width": null,
       "min_height": null,
       "min_width": null,
       "object_fit": null,
       "object_position": null,
       "order": null,
       "overflow": null,
       "overflow_x": null,
       "overflow_y": null,
       "padding": null,
       "right": null,
       "top": null,
       "visibility": null,
       "width": null
      }
     },
     "10ed89ab43eb4c0ba0025481748b6d8d": {
      "model_module": "@jupyter-widgets/base",
      "model_module_version": "1.2.0",
      "model_name": "LayoutModel",
      "state": {
       "_model_module": "@jupyter-widgets/base",
       "_model_module_version": "1.2.0",
       "_model_name": "LayoutModel",
       "_view_count": null,
       "_view_module": "@jupyter-widgets/base",
       "_view_module_version": "1.2.0",
       "_view_name": "LayoutView",
       "align_content": null,
       "align_items": null,
       "align_self": null,
       "border": null,
       "bottom": null,
       "display": null,
       "flex": null,
       "flex_flow": null,
       "grid_area": null,
       "grid_auto_columns": null,
       "grid_auto_flow": null,
       "grid_auto_rows": null,
       "grid_column": null,
       "grid_gap": null,
       "grid_row": null,
       "grid_template_areas": null,
       "grid_template_columns": null,
       "grid_template_rows": null,
       "height": null,
       "justify_content": null,
       "justify_items": null,
       "left": null,
       "margin": null,
       "max_height": null,
       "max_width": null,
       "min_height": null,
       "min_width": null,
       "object_fit": null,
       "object_position": null,
       "order": null,
       "overflow": null,
       "overflow_x": null,
       "overflow_y": null,
       "padding": null,
       "right": null,
       "top": null,
       "visibility": null,
       "width": null
      }
     },
     "13468444661645a39bf53bfec542e4f5": {
      "model_module": "@jupyter-widgets/controls",
      "model_module_version": "1.5.0",
      "model_name": "FloatProgressModel",
      "state": {
       "_dom_classes": [],
       "_model_module": "@jupyter-widgets/controls",
       "_model_module_version": "1.5.0",
       "_model_name": "FloatProgressModel",
       "_view_count": null,
       "_view_module": "@jupyter-widgets/controls",
       "_view_module_version": "1.5.0",
       "_view_name": "ProgressView",
       "bar_style": "success",
       "description": "",
       "description_tooltip": null,
       "layout": "IPY_MODEL_e5c42298094b43198eaa118ab070ca8b",
       "max": 1355863,
       "min": 0,
       "orientation": "horizontal",
       "style": "IPY_MODEL_e20d4190327c4db3be88823dd4b5e694",
       "value": 1355863
      }
     },
     "195e690bac9d43eca0d4d9a1aa5026d5": {
      "model_module": "@jupyter-widgets/controls",
      "model_module_version": "1.5.0",
      "model_name": "HBoxModel",
      "state": {
       "_dom_classes": [],
       "_model_module": "@jupyter-widgets/controls",
       "_model_module_version": "1.5.0",
       "_model_name": "HBoxModel",
       "_view_count": null,
       "_view_module": "@jupyter-widgets/controls",
       "_view_module_version": "1.5.0",
       "_view_name": "HBoxView",
       "box_style": "",
       "children": [
        "IPY_MODEL_89f968f537ae43eda26010a527af10cf",
        "IPY_MODEL_3d3e2828925648f6b3ce117c4acabbb0",
        "IPY_MODEL_74af30e6a07841b4891a9bf1189c1079"
       ],
       "layout": "IPY_MODEL_c8f0ea9abe2b4906b49037578c26f0af"
      }
     },
     "1be26d56a32d465c9793c0b7cafa71f1": {
      "model_module": "@jupyter-widgets/controls",
      "model_module_version": "1.5.0",
      "model_name": "ProgressStyleModel",
      "state": {
       "_model_module": "@jupyter-widgets/controls",
       "_model_module_version": "1.5.0",
       "_model_name": "ProgressStyleModel",
       "_view_count": null,
       "_view_module": "@jupyter-widgets/base",
       "_view_module_version": "1.2.0",
       "_view_name": "StyleView",
       "bar_color": null,
       "description_width": ""
      }
     },
     "1d895ebfa86d4a94995ff0ce84351028": {
      "model_module": "@jupyter-widgets/controls",
      "model_module_version": "1.5.0",
      "model_name": "DescriptionStyleModel",
      "state": {
       "_model_module": "@jupyter-widgets/controls",
       "_model_module_version": "1.5.0",
       "_model_name": "DescriptionStyleModel",
       "_view_count": null,
       "_view_module": "@jupyter-widgets/base",
       "_view_module_version": "1.2.0",
       "_view_name": "StyleView",
       "description_width": ""
      }
     },
     "2116456cd93843ba964d68c0152ff0c4": {
      "model_module": "@jupyter-widgets/base",
      "model_module_version": "1.2.0",
      "model_name": "LayoutModel",
      "state": {
       "_model_module": "@jupyter-widgets/base",
       "_model_module_version": "1.2.0",
       "_model_name": "LayoutModel",
       "_view_count": null,
       "_view_module": "@jupyter-widgets/base",
       "_view_module_version": "1.2.0",
       "_view_name": "LayoutView",
       "align_content": null,
       "align_items": null,
       "align_self": null,
       "border": null,
       "bottom": null,
       "display": null,
       "flex": null,
       "flex_flow": null,
       "grid_area": null,
       "grid_auto_columns": null,
       "grid_auto_flow": null,
       "grid_auto_rows": null,
       "grid_column": null,
       "grid_gap": null,
       "grid_row": null,
       "grid_template_areas": null,
       "grid_template_columns": null,
       "grid_template_rows": null,
       "height": null,
       "justify_content": null,
       "justify_items": null,
       "left": null,
       "margin": null,
       "max_height": null,
       "max_width": null,
       "min_height": null,
       "min_width": null,
       "object_fit": null,
       "object_position": null,
       "order": null,
       "overflow": null,
       "overflow_x": null,
       "overflow_y": null,
       "padding": null,
       "right": null,
       "top": null,
       "visibility": null,
       "width": null
      }
     },
     "238e939febf2482190a9445b2ba6f1b5": {
      "model_module": "@jupyter-widgets/controls",
      "model_module_version": "1.5.0",
      "model_name": "HBoxModel",
      "state": {
       "_dom_classes": [],
       "_model_module": "@jupyter-widgets/controls",
       "_model_module_version": "1.5.0",
       "_model_name": "HBoxModel",
       "_view_count": null,
       "_view_module": "@jupyter-widgets/controls",
       "_view_module_version": "1.5.0",
       "_view_name": "HBoxView",
       "box_style": "",
       "children": [
        "IPY_MODEL_3ed2395c5d6a40218a6f56d75b2a92aa",
        "IPY_MODEL_13468444661645a39bf53bfec542e4f5",
        "IPY_MODEL_0996a7f8c2aa40288e9e62751266a705"
       ],
       "layout": "IPY_MODEL_1009ae3187ba46448fcec028ecbd7fde"
      }
     },
     "2701a1336f414496aaf4db3230c0bd6b": {
      "model_module": "@jupyter-widgets/base",
      "model_module_version": "1.2.0",
      "model_name": "LayoutModel",
      "state": {
       "_model_module": "@jupyter-widgets/base",
       "_model_module_version": "1.2.0",
       "_model_name": "LayoutModel",
       "_view_count": null,
       "_view_module": "@jupyter-widgets/base",
       "_view_module_version": "1.2.0",
       "_view_name": "LayoutView",
       "align_content": null,
       "align_items": null,
       "align_self": null,
       "border": null,
       "bottom": null,
       "display": null,
       "flex": null,
       "flex_flow": null,
       "grid_area": null,
       "grid_auto_columns": null,
       "grid_auto_flow": null,
       "grid_auto_rows": null,
       "grid_column": null,
       "grid_gap": null,
       "grid_row": null,
       "grid_template_areas": null,
       "grid_template_columns": null,
       "grid_template_rows": null,
       "height": null,
       "justify_content": null,
       "justify_items": null,
       "left": null,
       "margin": null,
       "max_height": null,
       "max_width": null,
       "min_height": null,
       "min_width": null,
       "object_fit": null,
       "object_position": null,
       "order": null,
       "overflow": null,
       "overflow_x": null,
       "overflow_y": null,
       "padding": null,
       "right": null,
       "top": null,
       "visibility": null,
       "width": null
      }
     },
     "299d1027567d40e29dc2f31de106ff78": {
      "model_module": "@jupyter-widgets/controls",
      "model_module_version": "1.5.0",
      "model_name": "HBoxModel",
      "state": {
       "_dom_classes": [],
       "_model_module": "@jupyter-widgets/controls",
       "_model_module_version": "1.5.0",
       "_model_name": "HBoxModel",
       "_view_count": null,
       "_view_module": "@jupyter-widgets/controls",
       "_view_module_version": "1.5.0",
       "_view_name": "HBoxView",
       "box_style": "",
       "children": [
        "IPY_MODEL_3e19957e5a6e41fcbb78d97d18afee71",
        "IPY_MODEL_4dd44019145d4e698ea1f782b1002107",
        "IPY_MODEL_f5d5a542fa19498982eb42f578f530ab"
       ],
       "layout": "IPY_MODEL_8be4d57ea969431fb01089e8f8cab8a7"
      }
     },
     "3250415c8ee4451485405ac89297135e": {
      "model_module": "@jupyter-widgets/controls",
      "model_module_version": "1.5.0",
      "model_name": "DescriptionStyleModel",
      "state": {
       "_model_module": "@jupyter-widgets/controls",
       "_model_module_version": "1.5.0",
       "_model_name": "DescriptionStyleModel",
       "_view_count": null,
       "_view_module": "@jupyter-widgets/base",
       "_view_module_version": "1.2.0",
       "_view_name": "StyleView",
       "description_width": ""
      }
     },
     "3d3e2828925648f6b3ce117c4acabbb0": {
      "model_module": "@jupyter-widgets/controls",
      "model_module_version": "1.5.0",
      "model_name": "FloatProgressModel",
      "state": {
       "_dom_classes": [],
       "_model_module": "@jupyter-widgets/controls",
       "_model_module_version": "1.5.0",
       "_model_name": "FloatProgressModel",
       "_view_count": null,
       "_view_module": "@jupyter-widgets/controls",
       "_view_module_version": "1.5.0",
       "_view_name": "ProgressView",
       "bar_style": "success",
       "description": "",
       "description_tooltip": null,
       "layout": "IPY_MODEL_3e369e9ffe1c410b9c0f0d069cfe8fb2",
       "max": 25,
       "min": 0,
       "orientation": "horizontal",
       "style": "IPY_MODEL_9a8b2b5933ab4998984a10cd6572dd51",
       "value": 25
      }
     },
     "3de7950f2eaa438098c5e11d4adff0ce": {
      "model_module": "@jupyter-widgets/base",
      "model_module_version": "1.2.0",
      "model_name": "LayoutModel",
      "state": {
       "_model_module": "@jupyter-widgets/base",
       "_model_module_version": "1.2.0",
       "_model_name": "LayoutModel",
       "_view_count": null,
       "_view_module": "@jupyter-widgets/base",
       "_view_module_version": "1.2.0",
       "_view_name": "LayoutView",
       "align_content": null,
       "align_items": null,
       "align_self": null,
       "border": null,
       "bottom": null,
       "display": null,
       "flex": null,
       "flex_flow": null,
       "grid_area": null,
       "grid_auto_columns": null,
       "grid_auto_flow": null,
       "grid_auto_rows": null,
       "grid_column": null,
       "grid_gap": null,
       "grid_row": null,
       "grid_template_areas": null,
       "grid_template_columns": null,
       "grid_template_rows": null,
       "height": null,
       "justify_content": null,
       "justify_items": null,
       "left": null,
       "margin": null,
       "max_height": null,
       "max_width": null,
       "min_height": null,
       "min_width": null,
       "object_fit": null,
       "object_position": null,
       "order": null,
       "overflow": null,
       "overflow_x": null,
       "overflow_y": null,
       "padding": null,
       "right": null,
       "top": null,
       "visibility": null,
       "width": null
      }
     },
     "3e19957e5a6e41fcbb78d97d18afee71": {
      "model_module": "@jupyter-widgets/controls",
      "model_module_version": "1.5.0",
      "model_name": "HTMLModel",
      "state": {
       "_dom_classes": [],
       "_model_module": "@jupyter-widgets/controls",
       "_model_module_version": "1.5.0",
       "_model_name": "HTMLModel",
       "_view_count": null,
       "_view_module": "@jupyter-widgets/controls",
       "_view_module_version": "1.5.0",
       "_view_name": "HTMLView",
       "description": "",
       "description_tooltip": null,
       "layout": "IPY_MODEL_a135abe9ee544c9182fb870628a815b9",
       "placeholder": "​",
       "style": "IPY_MODEL_7138ece9e91547dbb22fd31014ec3c52",
       "value": "merges.txt: 100%"
      }
     },
     "3e369e9ffe1c410b9c0f0d069cfe8fb2": {
      "model_module": "@jupyter-widgets/base",
      "model_module_version": "1.2.0",
      "model_name": "LayoutModel",
      "state": {
       "_model_module": "@jupyter-widgets/base",
       "_model_module_version": "1.2.0",
       "_model_name": "LayoutModel",
       "_view_count": null,
       "_view_module": "@jupyter-widgets/base",
       "_view_module_version": "1.2.0",
       "_view_name": "LayoutView",
       "align_content": null,
       "align_items": null,
       "align_self": null,
       "border": null,
       "bottom": null,
       "display": null,
       "flex": null,
       "flex_flow": null,
       "grid_area": null,
       "grid_auto_columns": null,
       "grid_auto_flow": null,
       "grid_auto_rows": null,
       "grid_column": null,
       "grid_gap": null,
       "grid_row": null,
       "grid_template_areas": null,
       "grid_template_columns": null,
       "grid_template_rows": null,
       "height": null,
       "justify_content": null,
       "justify_items": null,
       "left": null,
       "margin": null,
       "max_height": null,
       "max_width": null,
       "min_height": null,
       "min_width": null,
       "object_fit": null,
       "object_position": null,
       "order": null,
       "overflow": null,
       "overflow_x": null,
       "overflow_y": null,
       "padding": null,
       "right": null,
       "top": null,
       "visibility": null,
       "width": null
      }
     },
     "3ed2395c5d6a40218a6f56d75b2a92aa": {
      "model_module": "@jupyter-widgets/controls",
      "model_module_version": "1.5.0",
      "model_name": "HTMLModel",
      "state": {
       "_dom_classes": [],
       "_model_module": "@jupyter-widgets/controls",
       "_model_module_version": "1.5.0",
       "_model_name": "HTMLModel",
       "_view_count": null,
       "_view_module": "@jupyter-widgets/controls",
       "_view_module_version": "1.5.0",
       "_view_name": "HTMLView",
       "description": "",
       "description_tooltip": null,
       "layout": "IPY_MODEL_3de7950f2eaa438098c5e11d4adff0ce",
       "placeholder": "​",
       "style": "IPY_MODEL_1d895ebfa86d4a94995ff0ce84351028",
       "value": "tokenizer.json: 100%"
      }
     },
     "4dd44019145d4e698ea1f782b1002107": {
      "model_module": "@jupyter-widgets/controls",
      "model_module_version": "1.5.0",
      "model_name": "FloatProgressModel",
      "state": {
       "_dom_classes": [],
       "_model_module": "@jupyter-widgets/controls",
       "_model_module_version": "1.5.0",
       "_model_name": "FloatProgressModel",
       "_view_count": null,
       "_view_module": "@jupyter-widgets/controls",
       "_view_module_version": "1.5.0",
       "_view_name": "ProgressView",
       "bar_style": "success",
       "description": "",
       "description_tooltip": null,
       "layout": "IPY_MODEL_ba75d165035c42e982f8bd47868e917a",
       "max": 456318,
       "min": 0,
       "orientation": "horizontal",
       "style": "IPY_MODEL_5eacef95cf5643a9b2060cb3a083dae9",
       "value": 456318
      }
     },
     "5cd89bcad0e4493bb5d6716292052edf": {
      "model_module": "@jupyter-widgets/controls",
      "model_module_version": "1.5.0",
      "model_name": "DescriptionStyleModel",
      "state": {
       "_model_module": "@jupyter-widgets/controls",
       "_model_module_version": "1.5.0",
       "_model_name": "DescriptionStyleModel",
       "_view_count": null,
       "_view_module": "@jupyter-widgets/base",
       "_view_module_version": "1.2.0",
       "_view_name": "StyleView",
       "description_width": ""
      }
     },
     "5eacef95cf5643a9b2060cb3a083dae9": {
      "model_module": "@jupyter-widgets/controls",
      "model_module_version": "1.5.0",
      "model_name": "ProgressStyleModel",
      "state": {
       "_model_module": "@jupyter-widgets/controls",
       "_model_module_version": "1.5.0",
       "_model_name": "ProgressStyleModel",
       "_view_count": null,
       "_view_module": "@jupyter-widgets/base",
       "_view_module_version": "1.2.0",
       "_view_name": "StyleView",
       "bar_color": null,
       "description_width": ""
      }
     },
     "611cf311711647bdaeaf55b7b49883af": {
      "model_module": "@jupyter-widgets/controls",
      "model_module_version": "1.5.0",
      "model_name": "HBoxModel",
      "state": {
       "_dom_classes": [],
       "_model_module": "@jupyter-widgets/controls",
       "_model_module_version": "1.5.0",
       "_model_name": "HBoxModel",
       "_view_count": null,
       "_view_module": "@jupyter-widgets/controls",
       "_view_module_version": "1.5.0",
       "_view_name": "HBoxView",
       "box_style": "",
       "children": [
        "IPY_MODEL_ed09aee551b64a43a08ec8d036a50924",
        "IPY_MODEL_632314ce81c042958ecff1d8ecb8beb7",
        "IPY_MODEL_b005dc1d965f4425966773b9e9882210"
       ],
       "layout": "IPY_MODEL_94049cbd62c445149d211eb346cff1ee"
      }
     },
     "632314ce81c042958ecff1d8ecb8beb7": {
      "model_module": "@jupyter-widgets/controls",
      "model_module_version": "1.5.0",
      "model_name": "FloatProgressModel",
      "state": {
       "_dom_classes": [],
       "_model_module": "@jupyter-widgets/controls",
       "_model_module_version": "1.5.0",
       "_model_name": "FloatProgressModel",
       "_view_count": null,
       "_view_module": "@jupyter-widgets/controls",
       "_view_module_version": "1.5.0",
       "_view_name": "ProgressView",
       "bar_style": "success",
       "description": "",
       "description_tooltip": null,
       "layout": "IPY_MODEL_f3b5ac4178d84054be04355fea1ff75f",
       "max": 498818054,
       "min": 0,
       "orientation": "horizontal",
       "style": "IPY_MODEL_6f22b6278fc44821816f9e5dbe930b0e",
       "value": 498818054
      }
     },
     "6bb87c5dc6f941d391d357e6b27499e6": {
      "model_module": "@jupyter-widgets/base",
      "model_module_version": "1.2.0",
      "model_name": "LayoutModel",
      "state": {
       "_model_module": "@jupyter-widgets/base",
       "_model_module_version": "1.2.0",
       "_model_name": "LayoutModel",
       "_view_count": null,
       "_view_module": "@jupyter-widgets/base",
       "_view_module_version": "1.2.0",
       "_view_name": "LayoutView",
       "align_content": null,
       "align_items": null,
       "align_self": null,
       "border": null,
       "bottom": null,
       "display": null,
       "flex": null,
       "flex_flow": null,
       "grid_area": null,
       "grid_auto_columns": null,
       "grid_auto_flow": null,
       "grid_auto_rows": null,
       "grid_column": null,
       "grid_gap": null,
       "grid_row": null,
       "grid_template_areas": null,
       "grid_template_columns": null,
       "grid_template_rows": null,
       "height": null,
       "justify_content": null,
       "justify_items": null,
       "left": null,
       "margin": null,
       "max_height": null,
       "max_width": null,
       "min_height": null,
       "min_width": null,
       "object_fit": null,
       "object_position": null,
       "order": null,
       "overflow": null,
       "overflow_x": null,
       "overflow_y": null,
       "padding": null,
       "right": null,
       "top": null,
       "visibility": null,
       "width": null
      }
     },
     "6c63348485564249816233364d6a089f": {
      "model_module": "@jupyter-widgets/base",
      "model_module_version": "1.2.0",
      "model_name": "LayoutModel",
      "state": {
       "_model_module": "@jupyter-widgets/base",
       "_model_module_version": "1.2.0",
       "_model_name": "LayoutModel",
       "_view_count": null,
       "_view_module": "@jupyter-widgets/base",
       "_view_module_version": "1.2.0",
       "_view_name": "LayoutView",
       "align_content": null,
       "align_items": null,
       "align_self": null,
       "border": null,
       "bottom": null,
       "display": null,
       "flex": null,
       "flex_flow": null,
       "grid_area": null,
       "grid_auto_columns": null,
       "grid_auto_flow": null,
       "grid_auto_rows": null,
       "grid_column": null,
       "grid_gap": null,
       "grid_row": null,
       "grid_template_areas": null,
       "grid_template_columns": null,
       "grid_template_rows": null,
       "height": null,
       "justify_content": null,
       "justify_items": null,
       "left": null,
       "margin": null,
       "max_height": null,
       "max_width": null,
       "min_height": null,
       "min_width": null,
       "object_fit": null,
       "object_position": null,
       "order": null,
       "overflow": null,
       "overflow_x": null,
       "overflow_y": null,
       "padding": null,
       "right": null,
       "top": null,
       "visibility": null,
       "width": null
      }
     },
     "6f22b6278fc44821816f9e5dbe930b0e": {
      "model_module": "@jupyter-widgets/controls",
      "model_module_version": "1.5.0",
      "model_name": "ProgressStyleModel",
      "state": {
       "_model_module": "@jupyter-widgets/controls",
       "_model_module_version": "1.5.0",
       "_model_name": "ProgressStyleModel",
       "_view_count": null,
       "_view_module": "@jupyter-widgets/base",
       "_view_module_version": "1.2.0",
       "_view_name": "StyleView",
       "bar_color": null,
       "description_width": ""
      }
     },
     "7138ece9e91547dbb22fd31014ec3c52": {
      "model_module": "@jupyter-widgets/controls",
      "model_module_version": "1.5.0",
      "model_name": "DescriptionStyleModel",
      "state": {
       "_model_module": "@jupyter-widgets/controls",
       "_model_module_version": "1.5.0",
       "_model_name": "DescriptionStyleModel",
       "_view_count": null,
       "_view_module": "@jupyter-widgets/base",
       "_view_module_version": "1.2.0",
       "_view_name": "StyleView",
       "description_width": ""
      }
     },
     "74af30e6a07841b4891a9bf1189c1079": {
      "model_module": "@jupyter-widgets/controls",
      "model_module_version": "1.5.0",
      "model_name": "HTMLModel",
      "state": {
       "_dom_classes": [],
       "_model_module": "@jupyter-widgets/controls",
       "_model_module_version": "1.5.0",
       "_model_name": "HTMLModel",
       "_view_count": null,
       "_view_module": "@jupyter-widgets/controls",
       "_view_module_version": "1.5.0",
       "_view_name": "HTMLView",
       "description": "",
       "description_tooltip": null,
       "layout": "IPY_MODEL_7ad9ecc470494ee0a5b34754dd394e84",
       "placeholder": "​",
       "style": "IPY_MODEL_3250415c8ee4451485405ac89297135e",
       "value": " 25.0/25.0 [00:00&lt;00:00, 2.16kB/s]"
      }
     },
     "7ad9ecc470494ee0a5b34754dd394e84": {
      "model_module": "@jupyter-widgets/base",
      "model_module_version": "1.2.0",
      "model_name": "LayoutModel",
      "state": {
       "_model_module": "@jupyter-widgets/base",
       "_model_module_version": "1.2.0",
       "_model_name": "LayoutModel",
       "_view_count": null,
       "_view_module": "@jupyter-widgets/base",
       "_view_module_version": "1.2.0",
       "_view_name": "LayoutView",
       "align_content": null,
       "align_items": null,
       "align_self": null,
       "border": null,
       "bottom": null,
       "display": null,
       "flex": null,
       "flex_flow": null,
       "grid_area": null,
       "grid_auto_columns": null,
       "grid_auto_flow": null,
       "grid_auto_rows": null,
       "grid_column": null,
       "grid_gap": null,
       "grid_row": null,
       "grid_template_areas": null,
       "grid_template_columns": null,
       "grid_template_rows": null,
       "height": null,
       "justify_content": null,
       "justify_items": null,
       "left": null,
       "margin": null,
       "max_height": null,
       "max_width": null,
       "min_height": null,
       "min_width": null,
       "object_fit": null,
       "object_position": null,
       "order": null,
       "overflow": null,
       "overflow_x": null,
       "overflow_y": null,
       "padding": null,
       "right": null,
       "top": null,
       "visibility": null,
       "width": null
      }
     },
     "878f897e8156485280a956b27cf9f425": {
      "model_module": "@jupyter-widgets/base",
      "model_module_version": "1.2.0",
      "model_name": "LayoutModel",
      "state": {
       "_model_module": "@jupyter-widgets/base",
       "_model_module_version": "1.2.0",
       "_model_name": "LayoutModel",
       "_view_count": null,
       "_view_module": "@jupyter-widgets/base",
       "_view_module_version": "1.2.0",
       "_view_name": "LayoutView",
       "align_content": null,
       "align_items": null,
       "align_self": null,
       "border": null,
       "bottom": null,
       "display": null,
       "flex": null,
       "flex_flow": null,
       "grid_area": null,
       "grid_auto_columns": null,
       "grid_auto_flow": null,
       "grid_auto_rows": null,
       "grid_column": null,
       "grid_gap": null,
       "grid_row": null,
       "grid_template_areas": null,
       "grid_template_columns": null,
       "grid_template_rows": null,
       "height": null,
       "justify_content": null,
       "justify_items": null,
       "left": null,
       "margin": null,
       "max_height": null,
       "max_width": null,
       "min_height": null,
       "min_width": null,
       "object_fit": null,
       "object_position": null,
       "order": null,
       "overflow": null,
       "overflow_x": null,
       "overflow_y": null,
       "padding": null,
       "right": null,
       "top": null,
       "visibility": null,
       "width": null
      }
     },
     "87f75c3c51464690a1db9b3cb4b11fc1": {
      "model_module": "@jupyter-widgets/controls",
      "model_module_version": "1.5.0",
      "model_name": "HTMLModel",
      "state": {
       "_dom_classes": [],
       "_model_module": "@jupyter-widgets/controls",
       "_model_module_version": "1.5.0",
       "_model_name": "HTMLModel",
       "_view_count": null,
       "_view_module": "@jupyter-widgets/controls",
       "_view_module_version": "1.5.0",
       "_view_name": "HTMLView",
       "description": "",
       "description_tooltip": null,
       "layout": "IPY_MODEL_f6628204c83041f7bcaf990eacd5256c",
       "placeholder": "​",
       "style": "IPY_MODEL_b83d1b33bb494ba09a3da4ea1d4b1e60",
       "value": " 899k/899k [00:00&lt;00:00, 3.82MB/s]"
      }
     },
     "89f968f537ae43eda26010a527af10cf": {
      "model_module": "@jupyter-widgets/controls",
      "model_module_version": "1.5.0",
      "model_name": "HTMLModel",
      "state": {
       "_dom_classes": [],
       "_model_module": "@jupyter-widgets/controls",
       "_model_module_version": "1.5.0",
       "_model_name": "HTMLModel",
       "_view_count": null,
       "_view_module": "@jupyter-widgets/controls",
       "_view_module_version": "1.5.0",
       "_view_name": "HTMLView",
       "description": "",
       "description_tooltip": null,
       "layout": "IPY_MODEL_bb59b8210ef4448d95640986b52b76af",
       "placeholder": "​",
       "style": "IPY_MODEL_b11600d82d834a41b66a2244ca3999eb",
       "value": "tokenizer_config.json: 100%"
      }
     },
     "8be4d57ea969431fb01089e8f8cab8a7": {
      "model_module": "@jupyter-widgets/base",
      "model_module_version": "1.2.0",
      "model_name": "LayoutModel",
      "state": {
       "_model_module": "@jupyter-widgets/base",
       "_model_module_version": "1.2.0",
       "_model_name": "LayoutModel",
       "_view_count": null,
       "_view_module": "@jupyter-widgets/base",
       "_view_module_version": "1.2.0",
       "_view_name": "LayoutView",
       "align_content": null,
       "align_items": null,
       "align_self": null,
       "border": null,
       "bottom": null,
       "display": null,
       "flex": null,
       "flex_flow": null,
       "grid_area": null,
       "grid_auto_columns": null,
       "grid_auto_flow": null,
       "grid_auto_rows": null,
       "grid_column": null,
       "grid_gap": null,
       "grid_row": null,
       "grid_template_areas": null,
       "grid_template_columns": null,
       "grid_template_rows": null,
       "height": null,
       "justify_content": null,
       "justify_items": null,
       "left": null,
       "margin": null,
       "max_height": null,
       "max_width": null,
       "min_height": null,
       "min_width": null,
       "object_fit": null,
       "object_position": null,
       "order": null,
       "overflow": null,
       "overflow_x": null,
       "overflow_y": null,
       "padding": null,
       "right": null,
       "top": null,
       "visibility": null,
       "width": null
      }
     },
     "8c2444497abe49fc8b7c8efa790df4b9": {
      "model_module": "@jupyter-widgets/controls",
      "model_module_version": "1.5.0",
      "model_name": "HBoxModel",
      "state": {
       "_dom_classes": [],
       "_model_module": "@jupyter-widgets/controls",
       "_model_module_version": "1.5.0",
       "_model_name": "HBoxModel",
       "_view_count": null,
       "_view_module": "@jupyter-widgets/controls",
       "_view_module_version": "1.5.0",
       "_view_name": "HBoxView",
       "box_style": "",
       "children": [
        "IPY_MODEL_f50e5a734fa54732aa8567e3f95d993b",
        "IPY_MODEL_d397a675db6940949b5287872685a1f8",
        "IPY_MODEL_87f75c3c51464690a1db9b3cb4b11fc1"
       ],
       "layout": "IPY_MODEL_d04c4021cc714eccb7fe32f48bd92bbf"
      }
     },
     "8f8bf8da11694943997ff35de80ad7c6": {
      "model_module": "@jupyter-widgets/controls",
      "model_module_version": "1.5.0",
      "model_name": "DescriptionStyleModel",
      "state": {
       "_model_module": "@jupyter-widgets/controls",
       "_model_module_version": "1.5.0",
       "_model_name": "DescriptionStyleModel",
       "_view_count": null,
       "_view_module": "@jupyter-widgets/base",
       "_view_module_version": "1.2.0",
       "_view_name": "StyleView",
       "description_width": ""
      }
     },
     "94049cbd62c445149d211eb346cff1ee": {
      "model_module": "@jupyter-widgets/base",
      "model_module_version": "1.2.0",
      "model_name": "LayoutModel",
      "state": {
       "_model_module": "@jupyter-widgets/base",
       "_model_module_version": "1.2.0",
       "_model_name": "LayoutModel",
       "_view_count": null,
       "_view_module": "@jupyter-widgets/base",
       "_view_module_version": "1.2.0",
       "_view_name": "LayoutView",
       "align_content": null,
       "align_items": null,
       "align_self": null,
       "border": null,
       "bottom": null,
       "display": null,
       "flex": null,
       "flex_flow": null,
       "grid_area": null,
       "grid_auto_columns": null,
       "grid_auto_flow": null,
       "grid_auto_rows": null,
       "grid_column": null,
       "grid_gap": null,
       "grid_row": null,
       "grid_template_areas": null,
       "grid_template_columns": null,
       "grid_template_rows": null,
       "height": null,
       "justify_content": null,
       "justify_items": null,
       "left": null,
       "margin": null,
       "max_height": null,
       "max_width": null,
       "min_height": null,
       "min_width": null,
       "object_fit": null,
       "object_position": null,
       "order": null,
       "overflow": null,
       "overflow_x": null,
       "overflow_y": null,
       "padding": null,
       "right": null,
       "top": null,
       "visibility": null,
       "width": null
      }
     },
     "9a8b2b5933ab4998984a10cd6572dd51": {
      "model_module": "@jupyter-widgets/controls",
      "model_module_version": "1.5.0",
      "model_name": "ProgressStyleModel",
      "state": {
       "_model_module": "@jupyter-widgets/controls",
       "_model_module_version": "1.5.0",
       "_model_name": "ProgressStyleModel",
       "_view_count": null,
       "_view_module": "@jupyter-widgets/base",
       "_view_module_version": "1.2.0",
       "_view_name": "StyleView",
       "bar_color": null,
       "description_width": ""
      }
     },
     "a05d1edb9f9f40baab1e291b7ce11cdb": {
      "model_module": "@jupyter-widgets/controls",
      "model_module_version": "1.5.0",
      "model_name": "HTMLModel",
      "state": {
       "_dom_classes": [],
       "_model_module": "@jupyter-widgets/controls",
       "_model_module_version": "1.5.0",
       "_model_name": "HTMLModel",
       "_view_count": null,
       "_view_module": "@jupyter-widgets/controls",
       "_view_module_version": "1.5.0",
       "_view_name": "HTMLView",
       "description": "",
       "description_tooltip": null,
       "layout": "IPY_MODEL_10ed89ab43eb4c0ba0025481748b6d8d",
       "placeholder": "​",
       "style": "IPY_MODEL_0fa7eab775a9469b84cd99ac8b060b6b",
       "value": "config.json: 100%"
      }
     },
     "a135abe9ee544c9182fb870628a815b9": {
      "model_module": "@jupyter-widgets/base",
      "model_module_version": "1.2.0",
      "model_name": "LayoutModel",
      "state": {
       "_model_module": "@jupyter-widgets/base",
       "_model_module_version": "1.2.0",
       "_model_name": "LayoutModel",
       "_view_count": null,
       "_view_module": "@jupyter-widgets/base",
       "_view_module_version": "1.2.0",
       "_view_name": "LayoutView",
       "align_content": null,
       "align_items": null,
       "align_self": null,
       "border": null,
       "bottom": null,
       "display": null,
       "flex": null,
       "flex_flow": null,
       "grid_area": null,
       "grid_auto_columns": null,
       "grid_auto_flow": null,
       "grid_auto_rows": null,
       "grid_column": null,
       "grid_gap": null,
       "grid_row": null,
       "grid_template_areas": null,
       "grid_template_columns": null,
       "grid_template_rows": null,
       "height": null,
       "justify_content": null,
       "justify_items": null,
       "left": null,
       "margin": null,
       "max_height": null,
       "max_width": null,
       "min_height": null,
       "min_width": null,
       "object_fit": null,
       "object_position": null,
       "order": null,
       "overflow": null,
       "overflow_x": null,
       "overflow_y": null,
       "padding": null,
       "right": null,
       "top": null,
       "visibility": null,
       "width": null
      }
     },
     "a9054f55f0fd48aab23057446cdc6696": {
      "model_module": "@jupyter-widgets/base",
      "model_module_version": "1.2.0",
      "model_name": "LayoutModel",
      "state": {
       "_model_module": "@jupyter-widgets/base",
       "_model_module_version": "1.2.0",
       "_model_name": "LayoutModel",
       "_view_count": null,
       "_view_module": "@jupyter-widgets/base",
       "_view_module_version": "1.2.0",
       "_view_name": "LayoutView",
       "align_content": null,
       "align_items": null,
       "align_self": null,
       "border": null,
       "bottom": null,
       "display": null,
       "flex": null,
       "flex_flow": null,
       "grid_area": null,
       "grid_auto_columns": null,
       "grid_auto_flow": null,
       "grid_auto_rows": null,
       "grid_column": null,
       "grid_gap": null,
       "grid_row": null,
       "grid_template_areas": null,
       "grid_template_columns": null,
       "grid_template_rows": null,
       "height": null,
       "justify_content": null,
       "justify_items": null,
       "left": null,
       "margin": null,
       "max_height": null,
       "max_width": null,
       "min_height": null,
       "min_width": null,
       "object_fit": null,
       "object_position": null,
       "order": null,
       "overflow": null,
       "overflow_x": null,
       "overflow_y": null,
       "padding": null,
       "right": null,
       "top": null,
       "visibility": null,
       "width": null
      }
     },
     "b005dc1d965f4425966773b9e9882210": {
      "model_module": "@jupyter-widgets/controls",
      "model_module_version": "1.5.0",
      "model_name": "HTMLModel",
      "state": {
       "_dom_classes": [],
       "_model_module": "@jupyter-widgets/controls",
       "_model_module_version": "1.5.0",
       "_model_name": "HTMLModel",
       "_view_count": null,
       "_view_module": "@jupyter-widgets/controls",
       "_view_module_version": "1.5.0",
       "_view_name": "HTMLView",
       "description": "",
       "description_tooltip": null,
       "layout": "IPY_MODEL_a9054f55f0fd48aab23057446cdc6696",
       "placeholder": "​",
       "style": "IPY_MODEL_8f8bf8da11694943997ff35de80ad7c6",
       "value": " 499M/499M [00:02&lt;00:00, 266MB/s]"
      }
     },
     "b11600d82d834a41b66a2244ca3999eb": {
      "model_module": "@jupyter-widgets/controls",
      "model_module_version": "1.5.0",
      "model_name": "DescriptionStyleModel",
      "state": {
       "_model_module": "@jupyter-widgets/controls",
       "_model_module_version": "1.5.0",
       "_model_name": "DescriptionStyleModel",
       "_view_count": null,
       "_view_module": "@jupyter-widgets/base",
       "_view_module_version": "1.2.0",
       "_view_name": "StyleView",
       "description_width": ""
      }
     },
     "b28a55c8daa54388aab9eaaf2f0d46d6": {
      "model_module": "@jupyter-widgets/base",
      "model_module_version": "1.2.0",
      "model_name": "LayoutModel",
      "state": {
       "_model_module": "@jupyter-widgets/base",
       "_model_module_version": "1.2.0",
       "_model_name": "LayoutModel",
       "_view_count": null,
       "_view_module": "@jupyter-widgets/base",
       "_view_module_version": "1.2.0",
       "_view_name": "LayoutView",
       "align_content": null,
       "align_items": null,
       "align_self": null,
       "border": null,
       "bottom": null,
       "display": null,
       "flex": null,
       "flex_flow": null,
       "grid_area": null,
       "grid_auto_columns": null,
       "grid_auto_flow": null,
       "grid_auto_rows": null,
       "grid_column": null,
       "grid_gap": null,
       "grid_row": null,
       "grid_template_areas": null,
       "grid_template_columns": null,
       "grid_template_rows": null,
       "height": null,
       "justify_content": null,
       "justify_items": null,
       "left": null,
       "margin": null,
       "max_height": null,
       "max_width": null,
       "min_height": null,
       "min_width": null,
       "object_fit": null,
       "object_position": null,
       "order": null,
       "overflow": null,
       "overflow_x": null,
       "overflow_y": null,
       "padding": null,
       "right": null,
       "top": null,
       "visibility": null,
       "width": null
      }
     },
     "b83d1b33bb494ba09a3da4ea1d4b1e60": {
      "model_module": "@jupyter-widgets/controls",
      "model_module_version": "1.5.0",
      "model_name": "DescriptionStyleModel",
      "state": {
       "_model_module": "@jupyter-widgets/controls",
       "_model_module_version": "1.5.0",
       "_model_name": "DescriptionStyleModel",
       "_view_count": null,
       "_view_module": "@jupyter-widgets/base",
       "_view_module_version": "1.2.0",
       "_view_name": "StyleView",
       "description_width": ""
      }
     },
     "ba75d165035c42e982f8bd47868e917a": {
      "model_module": "@jupyter-widgets/base",
      "model_module_version": "1.2.0",
      "model_name": "LayoutModel",
      "state": {
       "_model_module": "@jupyter-widgets/base",
       "_model_module_version": "1.2.0",
       "_model_name": "LayoutModel",
       "_view_count": null,
       "_view_module": "@jupyter-widgets/base",
       "_view_module_version": "1.2.0",
       "_view_name": "LayoutView",
       "align_content": null,
       "align_items": null,
       "align_self": null,
       "border": null,
       "bottom": null,
       "display": null,
       "flex": null,
       "flex_flow": null,
       "grid_area": null,
       "grid_auto_columns": null,
       "grid_auto_flow": null,
       "grid_auto_rows": null,
       "grid_column": null,
       "grid_gap": null,
       "grid_row": null,
       "grid_template_areas": null,
       "grid_template_columns": null,
       "grid_template_rows": null,
       "height": null,
       "justify_content": null,
       "justify_items": null,
       "left": null,
       "margin": null,
       "max_height": null,
       "max_width": null,
       "min_height": null,
       "min_width": null,
       "object_fit": null,
       "object_position": null,
       "order": null,
       "overflow": null,
       "overflow_x": null,
       "overflow_y": null,
       "padding": null,
       "right": null,
       "top": null,
       "visibility": null,
       "width": null
      }
     },
     "bb59b8210ef4448d95640986b52b76af": {
      "model_module": "@jupyter-widgets/base",
      "model_module_version": "1.2.0",
      "model_name": "LayoutModel",
      "state": {
       "_model_module": "@jupyter-widgets/base",
       "_model_module_version": "1.2.0",
       "_model_name": "LayoutModel",
       "_view_count": null,
       "_view_module": "@jupyter-widgets/base",
       "_view_module_version": "1.2.0",
       "_view_name": "LayoutView",
       "align_content": null,
       "align_items": null,
       "align_self": null,
       "border": null,
       "bottom": null,
       "display": null,
       "flex": null,
       "flex_flow": null,
       "grid_area": null,
       "grid_auto_columns": null,
       "grid_auto_flow": null,
       "grid_auto_rows": null,
       "grid_column": null,
       "grid_gap": null,
       "grid_row": null,
       "grid_template_areas": null,
       "grid_template_columns": null,
       "grid_template_rows": null,
       "height": null,
       "justify_content": null,
       "justify_items": null,
       "left": null,
       "margin": null,
       "max_height": null,
       "max_width": null,
       "min_height": null,
       "min_width": null,
       "object_fit": null,
       "object_position": null,
       "order": null,
       "overflow": null,
       "overflow_x": null,
       "overflow_y": null,
       "padding": null,
       "right": null,
       "top": null,
       "visibility": null,
       "width": null
      }
     },
     "c0d7b2fe63fe4c229ba108d9a10b294c": {
      "model_module": "@jupyter-widgets/base",
      "model_module_version": "1.2.0",
      "model_name": "LayoutModel",
      "state": {
       "_model_module": "@jupyter-widgets/base",
       "_model_module_version": "1.2.0",
       "_model_name": "LayoutModel",
       "_view_count": null,
       "_view_module": "@jupyter-widgets/base",
       "_view_module_version": "1.2.0",
       "_view_name": "LayoutView",
       "align_content": null,
       "align_items": null,
       "align_self": null,
       "border": null,
       "bottom": null,
       "display": null,
       "flex": null,
       "flex_flow": null,
       "grid_area": null,
       "grid_auto_columns": null,
       "grid_auto_flow": null,
       "grid_auto_rows": null,
       "grid_column": null,
       "grid_gap": null,
       "grid_row": null,
       "grid_template_areas": null,
       "grid_template_columns": null,
       "grid_template_rows": null,
       "height": null,
       "justify_content": null,
       "justify_items": null,
       "left": null,
       "margin": null,
       "max_height": null,
       "max_width": null,
       "min_height": null,
       "min_width": null,
       "object_fit": null,
       "object_position": null,
       "order": null,
       "overflow": null,
       "overflow_x": null,
       "overflow_y": null,
       "padding": null,
       "right": null,
       "top": null,
       "visibility": null,
       "width": null
      }
     },
     "c797f7a9d175494dae13bb909dc69e7e": {
      "model_module": "@jupyter-widgets/controls",
      "model_module_version": "1.5.0",
      "model_name": "HBoxModel",
      "state": {
       "_dom_classes": [],
       "_model_module": "@jupyter-widgets/controls",
       "_model_module_version": "1.5.0",
       "_model_name": "HBoxModel",
       "_view_count": null,
       "_view_module": "@jupyter-widgets/controls",
       "_view_module_version": "1.5.0",
       "_view_name": "HBoxView",
       "box_style": "",
       "children": [
        "IPY_MODEL_a05d1edb9f9f40baab1e291b7ce11cdb",
        "IPY_MODEL_077465539124415a91332db6daf6bf2c",
        "IPY_MODEL_e8a872dc56d3411098fc44a740ed0580"
       ],
       "layout": "IPY_MODEL_0d0b6b16dbe8478d995c9f459b6ea23e"
      }
     },
     "c8f0ea9abe2b4906b49037578c26f0af": {
      "model_module": "@jupyter-widgets/base",
      "model_module_version": "1.2.0",
      "model_name": "LayoutModel",
      "state": {
       "_model_module": "@jupyter-widgets/base",
       "_model_module_version": "1.2.0",
       "_model_name": "LayoutModel",
       "_view_count": null,
       "_view_module": "@jupyter-widgets/base",
       "_view_module_version": "1.2.0",
       "_view_name": "LayoutView",
       "align_content": null,
       "align_items": null,
       "align_self": null,
       "border": null,
       "bottom": null,
       "display": null,
       "flex": null,
       "flex_flow": null,
       "grid_area": null,
       "grid_auto_columns": null,
       "grid_auto_flow": null,
       "grid_auto_rows": null,
       "grid_column": null,
       "grid_gap": null,
       "grid_row": null,
       "grid_template_areas": null,
       "grid_template_columns": null,
       "grid_template_rows": null,
       "height": null,
       "justify_content": null,
       "justify_items": null,
       "left": null,
       "margin": null,
       "max_height": null,
       "max_width": null,
       "min_height": null,
       "min_width": null,
       "object_fit": null,
       "object_position": null,
       "order": null,
       "overflow": null,
       "overflow_x": null,
       "overflow_y": null,
       "padding": null,
       "right": null,
       "top": null,
       "visibility": null,
       "width": null
      }
     },
     "d04c4021cc714eccb7fe32f48bd92bbf": {
      "model_module": "@jupyter-widgets/base",
      "model_module_version": "1.2.0",
      "model_name": "LayoutModel",
      "state": {
       "_model_module": "@jupyter-widgets/base",
       "_model_module_version": "1.2.0",
       "_model_name": "LayoutModel",
       "_view_count": null,
       "_view_module": "@jupyter-widgets/base",
       "_view_module_version": "1.2.0",
       "_view_name": "LayoutView",
       "align_content": null,
       "align_items": null,
       "align_self": null,
       "border": null,
       "bottom": null,
       "display": null,
       "flex": null,
       "flex_flow": null,
       "grid_area": null,
       "grid_auto_columns": null,
       "grid_auto_flow": null,
       "grid_auto_rows": null,
       "grid_column": null,
       "grid_gap": null,
       "grid_row": null,
       "grid_template_areas": null,
       "grid_template_columns": null,
       "grid_template_rows": null,
       "height": null,
       "justify_content": null,
       "justify_items": null,
       "left": null,
       "margin": null,
       "max_height": null,
       "max_width": null,
       "min_height": null,
       "min_width": null,
       "object_fit": null,
       "object_position": null,
       "order": null,
       "overflow": null,
       "overflow_x": null,
       "overflow_y": null,
       "padding": null,
       "right": null,
       "top": null,
       "visibility": null,
       "width": null
      }
     },
     "d397a675db6940949b5287872685a1f8": {
      "model_module": "@jupyter-widgets/controls",
      "model_module_version": "1.5.0",
      "model_name": "FloatProgressModel",
      "state": {
       "_dom_classes": [],
       "_model_module": "@jupyter-widgets/controls",
       "_model_module_version": "1.5.0",
       "_model_name": "FloatProgressModel",
       "_view_count": null,
       "_view_module": "@jupyter-widgets/controls",
       "_view_module_version": "1.5.0",
       "_view_name": "ProgressView",
       "bar_style": "success",
       "description": "",
       "description_tooltip": null,
       "layout": "IPY_MODEL_2116456cd93843ba964d68c0152ff0c4",
       "max": 898823,
       "min": 0,
       "orientation": "horizontal",
       "style": "IPY_MODEL_1be26d56a32d465c9793c0b7cafa71f1",
       "value": 898823
      }
     },
     "e20d4190327c4db3be88823dd4b5e694": {
      "model_module": "@jupyter-widgets/controls",
      "model_module_version": "1.5.0",
      "model_name": "ProgressStyleModel",
      "state": {
       "_model_module": "@jupyter-widgets/controls",
       "_model_module_version": "1.5.0",
       "_model_name": "ProgressStyleModel",
       "_view_count": null,
       "_view_module": "@jupyter-widgets/base",
       "_view_module_version": "1.2.0",
       "_view_name": "StyleView",
       "bar_color": null,
       "description_width": ""
      }
     },
     "e49284c7659249f3b1a20a6b09bb99e6": {
      "model_module": "@jupyter-widgets/controls",
      "model_module_version": "1.5.0",
      "model_name": "DescriptionStyleModel",
      "state": {
       "_model_module": "@jupyter-widgets/controls",
       "_model_module_version": "1.5.0",
       "_model_name": "DescriptionStyleModel",
       "_view_count": null,
       "_view_module": "@jupyter-widgets/base",
       "_view_module_version": "1.2.0",
       "_view_name": "StyleView",
       "description_width": ""
      }
     },
     "e5c42298094b43198eaa118ab070ca8b": {
      "model_module": "@jupyter-widgets/base",
      "model_module_version": "1.2.0",
      "model_name": "LayoutModel",
      "state": {
       "_model_module": "@jupyter-widgets/base",
       "_model_module_version": "1.2.0",
       "_model_name": "LayoutModel",
       "_view_count": null,
       "_view_module": "@jupyter-widgets/base",
       "_view_module_version": "1.2.0",
       "_view_name": "LayoutView",
       "align_content": null,
       "align_items": null,
       "align_self": null,
       "border": null,
       "bottom": null,
       "display": null,
       "flex": null,
       "flex_flow": null,
       "grid_area": null,
       "grid_auto_columns": null,
       "grid_auto_flow": null,
       "grid_auto_rows": null,
       "grid_column": null,
       "grid_gap": null,
       "grid_row": null,
       "grid_template_areas": null,
       "grid_template_columns": null,
       "grid_template_rows": null,
       "height": null,
       "justify_content": null,
       "justify_items": null,
       "left": null,
       "margin": null,
       "max_height": null,
       "max_width": null,
       "min_height": null,
       "min_width": null,
       "object_fit": null,
       "object_position": null,
       "order": null,
       "overflow": null,
       "overflow_x": null,
       "overflow_y": null,
       "padding": null,
       "right": null,
       "top": null,
       "visibility": null,
       "width": null
      }
     },
     "e8a872dc56d3411098fc44a740ed0580": {
      "model_module": "@jupyter-widgets/controls",
      "model_module_version": "1.5.0",
      "model_name": "HTMLModel",
      "state": {
       "_dom_classes": [],
       "_model_module": "@jupyter-widgets/controls",
       "_model_module_version": "1.5.0",
       "_model_name": "HTMLModel",
       "_view_count": null,
       "_view_module": "@jupyter-widgets/controls",
       "_view_module_version": "1.5.0",
       "_view_name": "HTMLView",
       "description": "",
       "description_tooltip": null,
       "layout": "IPY_MODEL_6c63348485564249816233364d6a089f",
       "placeholder": "​",
       "style": "IPY_MODEL_e49284c7659249f3b1a20a6b09bb99e6",
       "value": " 481/481 [00:00&lt;00:00, 43.4kB/s]"
      }
     },
     "ed09aee551b64a43a08ec8d036a50924": {
      "model_module": "@jupyter-widgets/controls",
      "model_module_version": "1.5.0",
      "model_name": "HTMLModel",
      "state": {
       "_dom_classes": [],
       "_model_module": "@jupyter-widgets/controls",
       "_model_module_version": "1.5.0",
       "_model_name": "HTMLModel",
       "_view_count": null,
       "_view_module": "@jupyter-widgets/controls",
       "_view_module_version": "1.5.0",
       "_view_name": "HTMLView",
       "description": "",
       "description_tooltip": null,
       "layout": "IPY_MODEL_878f897e8156485280a956b27cf9f425",
       "placeholder": "​",
       "style": "IPY_MODEL_0c7c313cd28040e496e33119b75c7157",
       "value": "model.safetensors: 100%"
      }
     },
     "f103badcf98d426a881e25e279a89e86": {
      "model_module": "@jupyter-widgets/controls",
      "model_module_version": "1.5.0",
      "model_name": "DescriptionStyleModel",
      "state": {
       "_model_module": "@jupyter-widgets/controls",
       "_model_module_version": "1.5.0",
       "_model_name": "DescriptionStyleModel",
       "_view_count": null,
       "_view_module": "@jupyter-widgets/base",
       "_view_module_version": "1.2.0",
       "_view_name": "StyleView",
       "description_width": ""
      }
     },
     "f30ae0d1211641c890577b8a436dc207": {
      "model_module": "@jupyter-widgets/controls",
      "model_module_version": "1.5.0",
      "model_name": "ProgressStyleModel",
      "state": {
       "_model_module": "@jupyter-widgets/controls",
       "_model_module_version": "1.5.0",
       "_model_name": "ProgressStyleModel",
       "_view_count": null,
       "_view_module": "@jupyter-widgets/base",
       "_view_module_version": "1.2.0",
       "_view_name": "StyleView",
       "bar_color": null,
       "description_width": ""
      }
     },
     "f3b5ac4178d84054be04355fea1ff75f": {
      "model_module": "@jupyter-widgets/base",
      "model_module_version": "1.2.0",
      "model_name": "LayoutModel",
      "state": {
       "_model_module": "@jupyter-widgets/base",
       "_model_module_version": "1.2.0",
       "_model_name": "LayoutModel",
       "_view_count": null,
       "_view_module": "@jupyter-widgets/base",
       "_view_module_version": "1.2.0",
       "_view_name": "LayoutView",
       "align_content": null,
       "align_items": null,
       "align_self": null,
       "border": null,
       "bottom": null,
       "display": null,
       "flex": null,
       "flex_flow": null,
       "grid_area": null,
       "grid_auto_columns": null,
       "grid_auto_flow": null,
       "grid_auto_rows": null,
       "grid_column": null,
       "grid_gap": null,
       "grid_row": null,
       "grid_template_areas": null,
       "grid_template_columns": null,
       "grid_template_rows": null,
       "height": null,
       "justify_content": null,
       "justify_items": null,
       "left": null,
       "margin": null,
       "max_height": null,
       "max_width": null,
       "min_height": null,
       "min_width": null,
       "object_fit": null,
       "object_position": null,
       "order": null,
       "overflow": null,
       "overflow_x": null,
       "overflow_y": null,
       "padding": null,
       "right": null,
       "top": null,
       "visibility": null,
       "width": null
      }
     },
     "f50e5a734fa54732aa8567e3f95d993b": {
      "model_module": "@jupyter-widgets/controls",
      "model_module_version": "1.5.0",
      "model_name": "HTMLModel",
      "state": {
       "_dom_classes": [],
       "_model_module": "@jupyter-widgets/controls",
       "_model_module_version": "1.5.0",
       "_model_name": "HTMLModel",
       "_view_count": null,
       "_view_module": "@jupyter-widgets/controls",
       "_view_module_version": "1.5.0",
       "_view_name": "HTMLView",
       "description": "",
       "description_tooltip": null,
       "layout": "IPY_MODEL_c0d7b2fe63fe4c229ba108d9a10b294c",
       "placeholder": "​",
       "style": "IPY_MODEL_fd5ade7f532c4fb5b2092ef3aa2c46fd",
       "value": "vocab.json: 100%"
      }
     },
     "f5d5a542fa19498982eb42f578f530ab": {
      "model_module": "@jupyter-widgets/controls",
      "model_module_version": "1.5.0",
      "model_name": "HTMLModel",
      "state": {
       "_dom_classes": [],
       "_model_module": "@jupyter-widgets/controls",
       "_model_module_version": "1.5.0",
       "_model_name": "HTMLModel",
       "_view_count": null,
       "_view_module": "@jupyter-widgets/controls",
       "_view_module_version": "1.5.0",
       "_view_name": "HTMLView",
       "description": "",
       "description_tooltip": null,
       "layout": "IPY_MODEL_6bb87c5dc6f941d391d357e6b27499e6",
       "placeholder": "​",
       "style": "IPY_MODEL_f103badcf98d426a881e25e279a89e86",
       "value": " 456k/456k [00:00&lt;00:00, 2.63MB/s]"
      }
     },
     "f6628204c83041f7bcaf990eacd5256c": {
      "model_module": "@jupyter-widgets/base",
      "model_module_version": "1.2.0",
      "model_name": "LayoutModel",
      "state": {
       "_model_module": "@jupyter-widgets/base",
       "_model_module_version": "1.2.0",
       "_model_name": "LayoutModel",
       "_view_count": null,
       "_view_module": "@jupyter-widgets/base",
       "_view_module_version": "1.2.0",
       "_view_name": "LayoutView",
       "align_content": null,
       "align_items": null,
       "align_self": null,
       "border": null,
       "bottom": null,
       "display": null,
       "flex": null,
       "flex_flow": null,
       "grid_area": null,
       "grid_auto_columns": null,
       "grid_auto_flow": null,
       "grid_auto_rows": null,
       "grid_column": null,
       "grid_gap": null,
       "grid_row": null,
       "grid_template_areas": null,
       "grid_template_columns": null,
       "grid_template_rows": null,
       "height": null,
       "justify_content": null,
       "justify_items": null,
       "left": null,
       "margin": null,
       "max_height": null,
       "max_width": null,
       "min_height": null,
       "min_width": null,
       "object_fit": null,
       "object_position": null,
       "order": null,
       "overflow": null,
       "overflow_x": null,
       "overflow_y": null,
       "padding": null,
       "right": null,
       "top": null,
       "visibility": null,
       "width": null
      }
     },
     "fd5ade7f532c4fb5b2092ef3aa2c46fd": {
      "model_module": "@jupyter-widgets/controls",
      "model_module_version": "1.5.0",
      "model_name": "DescriptionStyleModel",
      "state": {
       "_model_module": "@jupyter-widgets/controls",
       "_model_module_version": "1.5.0",
       "_model_name": "DescriptionStyleModel",
       "_view_count": null,
       "_view_module": "@jupyter-widgets/base",
       "_view_module_version": "1.2.0",
       "_view_name": "StyleView",
       "description_width": ""
      }
     }
    },
    "version_major": 2,
    "version_minor": 0
   }
  }
 },
 "nbformat": 4,
 "nbformat_minor": 5
}
